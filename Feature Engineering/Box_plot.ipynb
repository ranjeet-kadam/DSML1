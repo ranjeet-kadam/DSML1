{
 "cells": [
  {
   "cell_type": "code",
   "execution_count": null,
   "id": "003f1b77",
   "metadata": {},
   "outputs": [],
   "source": [
    "### 5 numbers summary minimum,maximum,Q3 ,Q1,mean,median,mode,IQR"
   ]
  },
  {
   "cell_type": "code",
   "execution_count": 1,
   "id": "fce0991f",
   "metadata": {},
   "outputs": [],
   "source": [
    "import numpy as np"
   ]
  },
  {
   "cell_type": "code",
   "execution_count": 3,
   "id": "abc1ee19",
   "metadata": {},
   "outputs": [],
   "source": [
    "lst_mark = [67,98,90,87,65,44,97,91,87,78,62,77,95,92,67,78,87]\n",
    "minimum,Q1,median,Q3,maximum=np.quantile(lst_mark,[0,0.25,0.50,0.75,1.0])"
   ]
  },
  {
   "cell_type": "code",
   "execution_count": 9,
   "id": "f25e999b",
   "metadata": {},
   "outputs": [
    {
     "data": {
      "text/plain": [
       "(np.float64(44.0), np.float64(67.0), np.float64(91.0), np.float64(98.0))"
      ]
     },
     "execution_count": 9,
     "metadata": {},
     "output_type": "execute_result"
    }
   ],
   "source": [
    "\n",
    "minimum,Q1,Q3,maximum"
   ]
  },
  {
   "cell_type": "code",
   "execution_count": 10,
   "id": "186871d5",
   "metadata": {},
   "outputs": [
    {
     "name": "stdout",
     "output_type": "stream",
     "text": [
      "24.0\n"
     ]
    }
   ],
   "source": [
    "IQR = Q3-Q1\n",
    "print(IQR)"
   ]
  },
  {
   "cell_type": "code",
   "execution_count": 12,
   "id": "04614594",
   "metadata": {},
   "outputs": [
    {
     "name": "stdout",
     "output_type": "stream",
     "text": [
      "31.0\n",
      "127.0\n"
     ]
    }
   ],
   "source": [
    "lower_fence= Q1 - 1.5*(IQR)\n",
    "upper_fence = Q3 + 1.5*(IQR)\n",
    "\n",
    "print(lower_fence)\n",
    "print(upper_fence)"
   ]
  },
  {
   "cell_type": "code",
   "execution_count": 13,
   "id": "33fea9c7",
   "metadata": {},
   "outputs": [],
   "source": [
    "import seaborn as sns"
   ]
  },
  {
   "cell_type": "code",
   "execution_count": 14,
   "id": "e4078839",
   "metadata": {},
   "outputs": [
    {
     "data": {
      "text/plain": [
       "<Axes: >"
      ]
     },
     "execution_count": 14,
     "metadata": {},
     "output_type": "execute_result"
    },
    {
     "data": {
      "image/png": "[encoded data removed]",
      "text/plain": [
       "<Figure size 640x480 with 1 Axes>"
      ]
     },
     "metadata": {},
     "output_type": "display_data"
    }
   ],
   "source": [
    "sns.boxplot(lst_mark)"
   ]
  },
  {
   "cell_type": "code",
   "execution_count": null,
   "id": "fac21e39",
   "metadata": {},
   "outputs": [],
   "source": []
  },
  {
   "cell_type": "code",
   "execution_count": null,
   "id": "96b79518",
   "metadata": {},
   "outputs": [],
   "source": []
  }
 ],
 "metadata": {
  "kernelspec": {
   "display_name": "Python 3",
   "language": "python",
   "name": "python3"
  },
  "language_info": {
   "codemirror_mode": {
    "name": "ipython",
    "version": 3
   },
   "file_extension": ".py",
   "mimetype": "text/x-python",
   "name": "python",
   "nbconvert_exporter": "python",
   "pygments_lexer": "ipython3",
   "version": "3.13.3"
  }
 },
 "nbformat": 4,
 "nbformat_minor": 5
}
