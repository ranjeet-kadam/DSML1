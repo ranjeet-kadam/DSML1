{
 "cells": [
  {
   "cell_type": "code",
   "execution_count": 13,
   "id": "9e5c456f",
   "metadata": {},
   "outputs": [
    {
     "name": "stdout",
     "output_type": "stream",
     "text": [
      "Vector(9,13)\n",
      "Vector(-3,-5)\n"
     ]
    }
   ],
   "source": [
    "### Operator Overloading\n",
    "\n",
    "class Vector:\n",
    "\n",
    "    def __init__(self,x,y):\n",
    "        self.x =x\n",
    "        self.y =y\n",
    "\n",
    "    def __add__(self, other):\n",
    "        return Vector(self.x + other.x,self.y +other.y)\n",
    "    \n",
    "    def __sub__(self,other):\n",
    "        return Vector(self.x - other.x,self.y-other.y)\n",
    "    \n",
    "\n",
    "    def __mul__(self,other):\n",
    "        return Vector(self.x * other.x,self.y*other.y)\n",
    "    \n",
    "    def __eq__(self, other):\n",
    "        return self.x == other.x and self.y==other.y\n",
    "    \n",
    "    #def __str__(self):\n",
    "        #return f\"Vector({self.x}, {self.y})\"\n",
    "\n",
    "    def __repr__(self):\n",
    "        return f\"Vector({self.x},{self.y})\"\n",
    "    \n",
    "\n",
    "### Creating an object\n",
    "\n",
    "x =Vector(3,4)\n",
    "y = Vector(6,9)\n",
    "result = x+y\n",
    "res1 = x-y\n",
    "print(result)\n",
    "print(res1)\n",
    "        "
   ]
  },
  {
   "cell_type": "code",
   "execution_count": null,
   "id": "1ad28d4a",
   "metadata": {},
   "outputs": [],
   "source": []
  }
 ],
 "metadata": {
  "kernelspec": {
   "display_name": "Python 3",
   "language": "python",
   "name": "python3"
  },
  "language_info": {
   "codemirror_mode": {
    "name": "ipython",
    "version": 3
   },
   "file_extension": ".py",
   "mimetype": "text/x-python",
   "name": "python",
   "nbconvert_exporter": "python",
   "pygments_lexer": "ipython3",
   "version": "3.13.3"
  }
 },
 "nbformat": 4,
 "nbformat_minor": 5
}
