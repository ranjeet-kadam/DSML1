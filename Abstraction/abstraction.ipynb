{
 "cells": [
  {
   "cell_type": "code",
   "execution_count": 5,
   "metadata": {},
   "outputs": [
    {
     "name": "stdout",
     "output_type": "stream",
     "text": [
      "Dog make sound Woof!\n"
     ]
    }
   ],
   "source": [
    "### Abstraction in Python\n",
    "\n",
    "from abc import ABC, abstractmethod\n",
    "\n",
    "class Animal(ABC):\n",
    "\n",
    "    @abstractmethod\n",
    "    def make_sound(self):\n",
    "        pass             # No implementation here\n",
    "\n",
    "\n",
    "class dog(Animal):\n",
    "\n",
    "    def make_sound(self):\n",
    "        return \"Dog make sound Woof!\"\n",
    "    \n",
    "#Animal = Animal()\n",
    "#print(Animal.make_sound())\n",
    "dog =dog()\n",
    "print(dog.make_sound())\n"
   ]
  },
  {
   "cell_type": "code",
   "execution_count": null,
   "metadata": {},
   "outputs": [],
   "source": []
  },
  {
   "cell_type": "code",
   "execution_count": null,
   "metadata": {},
   "outputs": [],
   "source": []
  }
 ],
 "metadata": {
  "kernelspec": {
   "display_name": "Python 3",
   "language": "python",
   "name": "python3"
  },
  "language_info": {
   "codemirror_mode": {
    "name": "ipython",
    "version": 3
   },
   "file_extension": ".py",
   "mimetype": "text/x-python",
   "name": "python",
   "nbconvert_exporter": "python",
   "pygments_lexer": "ipython3",
   "version": "3.13.3"
  }
 },
 "nbformat": 4,
 "nbformat_minor": 2
}
