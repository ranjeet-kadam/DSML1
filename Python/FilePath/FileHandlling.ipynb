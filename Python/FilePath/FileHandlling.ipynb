{
 "cells": [
  {
   "cell_type": "code",
   "execution_count": 2,
   "id": "82d316b6",
   "metadata": {},
   "outputs": [
    {
     "name": "stdout",
     "output_type": "stream",
     "text": [
      "Hello, Welcome to the party.\n",
      "Enjoy !!!!\n"
     ]
    }
   ],
   "source": [
    "#### File Handlling in Python\n",
    "\n",
    "with open('source.txt','r') as file:\n",
    "    content = file.read()\n",
    "    print(content)\n",
    "\n"
   ]
  },
  {
   "cell_type": "code",
   "execution_count": 4,
   "id": "a0b54d3c",
   "metadata": {},
   "outputs": [
    {
     "name": "stdout",
     "output_type": "stream",
     "text": [
      "Hello, Welcome to the party.\n",
      "Enjoy !!!!\n"
     ]
    }
   ],
   "source": [
    "## Read a file line by line\n",
    "\n",
    "with open('source.txt','r') as file:\n",
    "    for line in file:\n",
    "        print(line.strip())"
   ]
  },
  {
   "cell_type": "code",
   "execution_count": null,
   "id": "c2cbb612",
   "metadata": {},
   "outputs": [],
   "source": [
    "## Write a file for overwritten....\n",
    "\n",
    "with open('source.txt','w') as file:\n",
    "    file.write('There are lots of complementery wines are here\\n')\n",
    "    file.write('Its treat from me..')"
   ]
  },
  {
   "cell_type": "code",
   "execution_count": 9,
   "id": "477ba922",
   "metadata": {},
   "outputs": [],
   "source": [
    "## Write a file without overwritten....\n",
    "\n",
    "with open('source.txt','a') as file:\n",
    "    file.write('This was party\\n')\n",
    "    file.write('How was the party?...')\n"
   ]
  },
  {
   "cell_type": "code",
   "execution_count": 10,
   "id": "df65d44b",
   "metadata": {},
   "outputs": [],
   "source": [
    "### Write a list of lines\n",
    "\n",
    "list = ['First line \\n','Second line \\n', 'Third line\\n']\n",
    "with open('source.txt','a') as file:\n",
    "    file.writelines(list)"
   ]
  },
  {
   "cell_type": "code",
   "execution_count": 15,
   "id": "107a538a",
   "metadata": {},
   "outputs": [
    {
     "name": "stdout",
     "output_type": "stream",
     "text": [
      "Here is the new party on 28th April\n",
      "Enroll before 20th April and get 1000 off\n",
      "\n"
     ]
    }
   ],
   "source": [
    "## Writing and reading the file \n",
    "\n",
    "with open('source.txt','w+') as file:\n",
    "    file.write('Here is the new party on 28th April\\n')\n",
    "    file.write('Enroll before 20th April and get 1000 off\\n')\n",
    "\n",
    "    ## Move the cursor on the beginning\n",
    "    file.seek(0)\n",
    "\n",
    "    ## Read the content in the file\n",
    "    content = file.read()\n",
    "    print(content)"
   ]
  },
  {
   "cell_type": "code",
   "execution_count": null,
   "id": "91ff9ac7",
   "metadata": {},
   "outputs": [],
   "source": []
  }
 ],
 "metadata": {
  "kernelspec": {
   "display_name": "Python 3",
   "language": "python",
   "name": "python3"
  },
  "language_info": {
   "codemirror_mode": {
    "name": "ipython",
    "version": 3
   },
   "file_extension": ".py",
   "mimetype": "text/x-python",
   "name": "python",
   "nbconvert_exporter": "python",
   "pygments_lexer": "ipython3",
   "version": "3.12.0"
  }
 },
 "nbformat": 4,
 "nbformat_minor": 5
}
