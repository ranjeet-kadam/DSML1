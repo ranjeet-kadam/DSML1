{
 "cells": [
  {
   "cell_type": "code",
   "execution_count": 2,
   "id": "ab4f1f24",
   "metadata": {},
   "outputs": [
    {
     "name": "stdout",
     "output_type": "stream",
     "text": [
      "Directory'Packages' Created\n"
     ]
    }
   ],
   "source": [
    "### Create a new directory \n",
    "import os\n",
    "\n",
    "new_directory = \"Packages\"\n",
    "os.mkdir(new_directory)\n",
    "print(f\"Directory'{new_directory}' Created\")"
   ]
  },
  {
   "cell_type": "code",
   "execution_count": 3,
   "id": "009b234d",
   "metadata": {},
   "outputs": [
    {
     "name": "stdout",
     "output_type": "stream",
     "text": [
      "['Filepath.ipynb', 'Packages']\n"
     ]
    }
   ],
   "source": [
    "### List all the files and directory\n",
    "\n",
    "items = os.listdir('.')\n",
    "print(items)"
   ]
  },
  {
   "cell_type": "code",
   "execution_count": 4,
   "id": "33876063",
   "metadata": {},
   "outputs": [
    {
     "name": "stdout",
     "output_type": "stream",
     "text": [
      "Folders\\file.txt\n"
     ]
    }
   ],
   "source": [
    "### Joining Paths\n",
    "\n",
    "dir_name =\"Folders\"\n",
    "file_name =\"file.txt\"\n",
    "full_path = os.path.join(dir_name,file_name)\n",
    "print(full_path)"
   ]
  },
  {
   "cell_type": "code",
   "execution_count": 5,
   "id": "d0b20c12",
   "metadata": {},
   "outputs": [
    {
     "name": "stdout",
     "output_type": "stream",
     "text": [
      "d:\\Krish_Naik\\Python\\FilePath\\Folders\\file.txt\n"
     ]
    }
   ],
   "source": [
    "dir_name =\"Folders\"\n",
    "file_name =\"file.txt\"\n",
    "full_path = os.path.join(os.getcwd(),dir_name,file_name)\n",
    "print(full_path)"
   ]
  },
  {
   "cell_type": "code",
   "execution_count": null,
   "id": "1832c604",
   "metadata": {},
   "outputs": [
    {
     "name": "stdout",
     "output_type": "stream",
     "text": [
      "File does not exists\n"
     ]
    }
   ],
   "source": [
    "path = 'example.txt'\n",
    "if os.path.isfile(path):\n",
    "    print(f\"This is the '{path} file\")\n",
    "\n",
    "elif os.path.isdir(path):\n",
    "    print(f\"This is the '{path} directory\")\n",
    "    \n",
    "else:\n",
    "    print(\"File does not exists\")"
   ]
  },
  {
   "cell_type": "code",
   "execution_count": null,
   "id": "fb3c5f12",
   "metadata": {},
   "outputs": [],
   "source": []
  }
 ],
 "metadata": {
  "kernelspec": {
   "display_name": "Python 3",
   "language": "python",
   "name": "python3"
  },
  "language_info": {
   "codemirror_mode": {
    "name": "ipython",
    "version": 3
   },
   "file_extension": ".py",
   "mimetype": "text/x-python",
   "name": "python",
   "nbconvert_exporter": "python",
   "pygments_lexer": "ipython3",
   "version": "3.12.0"
  }
 },
 "nbformat": 4,
 "nbformat_minor": 5
}
