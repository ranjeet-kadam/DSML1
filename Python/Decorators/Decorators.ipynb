{
 "cells": [
  {
   "cell_type": "code",
   "execution_count": 1,
   "id": "fd458ed4",
   "metadata": {},
   "outputs": [
    {
     "name": "stdout",
     "output_type": "stream",
     "text": [
      "Before the function call\n",
      "Hello\n",
      "After the function call\n"
     ]
    }
   ],
   "source": [
    "### Decorators in python\n",
    "\n",
    "def decorator_func(original_func):\n",
    "    def wrapped_func():\n",
    "        print(\"Before the function call\")\n",
    "        original_func()\n",
    "        print(\"After the function call\")\n",
    "    return wrapped_func\n",
    "\n",
    "\n",
    "@decorator_func\n",
    "def say_hello():\n",
    "    print(\"Hello\")\n",
    "\n",
    "\n",
    "say_hello()"
   ]
  },
  {
   "cell_type": "code",
   "execution_count": 2,
   "id": "bec8a9d9",
   "metadata": {},
   "outputs": [
    {
     "name": "stdout",
     "output_type": "stream",
     "text": [
      "Argument were :(7, 9),{}\n"
     ]
    },
    {
     "data": {
      "text/plain": [
       "63"
      ]
     },
     "execution_count": 2,
     "metadata": {},
     "output_type": "execute_result"
    }
   ],
   "source": [
    "### Decorators with arguments\n",
    "\n",
    "def log_arg(func):\n",
    "    def wrapper(*args,**kwargs):\n",
    "        print(f\"Argument were :{args},{kwargs}\")\n",
    "        return func(*args,**kwargs)\n",
    "    return wrapper\n",
    "\n",
    "\n",
    "@log_arg\n",
    "def multiply(a,b):\n",
    "    return a*b\n",
    "\n",
    "multiply(7,9)"
   ]
  },
  {
   "cell_type": "code",
   "execution_count": 11,
   "id": "3e8a9132",
   "metadata": {},
   "outputs": [
    {
     "data": {
      "text/plain": [
       "'Welcome to the party. Enjoyyyyy...!'"
      ]
     },
     "execution_count": 11,
     "metadata": {},
     "output_type": "execute_result"
    }
   ],
   "source": [
    "### Function Copy in Python\n",
    "\n",
    "def welcome():\n",
    "    return \"Welcome to the party. Enjoyyyyy...!\"\n",
    "\n",
    "welcome()"
   ]
  },
  {
   "cell_type": "code",
   "execution_count": null,
   "id": "80faad66",
   "metadata": {},
   "outputs": [
    {
     "name": "stdout",
     "output_type": "stream",
     "text": [
      "Welcome to the party. Enjoyyyyy...!\n"
     ]
    },
    {
     "ename": "NameError",
     "evalue": "name 'wel1' is not defined",
     "output_type": "error",
     "traceback": [
      "\u001b[1;31m---------------------------------------------------------------------------\u001b[0m",
      "\u001b[1;31mNameError\u001b[0m                                 Traceback (most recent call last)",
      "Cell \u001b[1;32mIn[14], line 5\u001b[0m\n\u001b[0;32m      2\u001b[0m \u001b[38;5;28mprint\u001b[39m(wel1())\n\u001b[0;32m      4\u001b[0m \u001b[38;5;28;01mdel\u001b[39;00m wel1\n\u001b[1;32m----> 5\u001b[0m \u001b[38;5;28mprint\u001b[39m(\u001b[43mwel1\u001b[49m)\n\u001b[0;32m      6\u001b[0m \u001b[38;5;28mprint\u001b[39m(welcome())\n",
      "\u001b[1;31mNameError\u001b[0m: name 'wel1' is not defined"
     ]
    }
   ],
   "source": [
    "wel1 = welcome\n",
    "print(wel1())\n",
    "\n",
    "del wel1\n",
    "print(wel1)\n",
    "print(welcome)\n"
   ]
  },
  {
   "cell_type": "code",
   "execution_count": 16,
   "id": "a189df4b",
   "metadata": {},
   "outputs": [
    {
     "name": "stdout",
     "output_type": "stream",
     "text": [
      "Welcome to the party. Enjoyyyyy...!\n"
     ]
    }
   ],
   "source": [
    "print(welcome())"
   ]
  },
  {
   "cell_type": "code",
   "execution_count": 19,
   "id": "856f7b06",
   "metadata": {},
   "outputs": [
    {
     "name": "stdout",
     "output_type": "stream",
     "text": [
      "Hello All : Welcome to the party..!\n"
     ]
    }
   ],
   "source": [
    "### Closure function in Python\n",
    "\n",
    "def outer (msg):\n",
    "    def inner():\n",
    "        return f\"Hello All : {msg}\"\n",
    "    return inner\n",
    "\n",
    "\n",
    "my_funct = outer(\"Welcome to the party..!\")\n",
    "print(my_funct())\n"
   ]
  },
  {
   "cell_type": "code",
   "execution_count": 23,
   "id": "dde2c106",
   "metadata": {},
   "outputs": [],
   "source": [
    "### Decorators example\n",
    "\n",
    "def repeat(n):\n",
    "    def decorator(func):\n",
    "        def wrapper(*args,**kwargs):\n",
    "            for _ in range(n):\n",
    "                func(*args,**kwargs)\n",
    "        return wrapper\n",
    "    return decorator\n",
    "    \n"
   ]
  },
  {
   "cell_type": "code",
   "execution_count": 24,
   "id": "eb018f23",
   "metadata": {},
   "outputs": [
    {
     "name": "stdout",
     "output_type": "stream",
     "text": [
      "Hello\n",
      "Hello\n",
      "Hello\n"
     ]
    }
   ],
   "source": [
    "@repeat(3)\n",
    "\n",
    "def say_hello():\n",
    "    print(\"Hello\")\n",
    "\n",
    "say_hello()"
   ]
  },
  {
   "cell_type": "code",
   "execution_count": null,
   "id": "e6828f41",
   "metadata": {},
   "outputs": [],
   "source": []
  }
 ],
 "metadata": {
  "kernelspec": {
   "display_name": "Python 3",
   "language": "python",
   "name": "python3"
  },
  "language_info": {
   "codemirror_mode": {
    "name": "ipython",
    "version": 3
   },
   "file_extension": ".py",
   "mimetype": "text/x-python",
   "name": "python",
   "nbconvert_exporter": "python",
   "pygments_lexer": "ipython3",
   "version": "3.12.0"
  }
 },
 "nbformat": 4,
 "nbformat_minor": 5
}
