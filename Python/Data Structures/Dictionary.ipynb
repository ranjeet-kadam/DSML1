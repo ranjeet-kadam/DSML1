{
 "cells": [
  {
   "cell_type": "code",
   "execution_count": 2,
   "id": "c2313178",
   "metadata": {},
   "outputs": [
    {
     "name": "stdout",
     "output_type": "stream",
     "text": [
      "{'name': 'John Doe', 'age': 20, 'Grade': 'A', 'major': 'Computer Science'}\n"
     ]
    }
   ],
   "source": [
    "### Dictionary\\\n",
    "\n",
    "student = {\n",
    "    \"name\": \"John Doe\",\n",
    "    \"age\": 20,\n",
    "    \"Grade\": \"A\",\n",
    "    \"major\": \"Computer Science\"}\n",
    "print(student)\n",
    "# The above code creates a dictionary named 'student' with keys and values representing the student's information."
   ]
  },
  {
   "cell_type": "code",
   "execution_count": null,
   "id": "99085e0e",
   "metadata": {},
   "outputs": [
    {
     "name": "stdout",
     "output_type": "stream",
     "text": [
      "{'name': 'Jane Smith', 'age': 20, 'Grade': 'A', 'major': 'Computer Science'}\n"
     ]
    }
   ],
   "source": [
    "## Dictionary only have one key if the key is the same\n",
    "# The last key-value pair will overwrite the previous one with the same key.\n",
    "\n",
    "student = {\n",
    "    \"name\": \"John Doe\",\n",
    "    \"age\": 20,\n",
    "    \"Grade\": \"A\",\n",
    "    \"major\": \"Computer Science\",\n",
    "    \"name\": \"Jane Smith\"}\n",
    "print(student)"
   ]
  },
  {
   "cell_type": "code",
   "execution_count": 8,
   "id": "3fe1ac63",
   "metadata": {},
   "outputs": [
    {
     "name": "stdout",
     "output_type": "stream",
     "text": [
      "Jane Smith\n",
      "20\n"
     ]
    }
   ],
   "source": [
    "### Accessing Dictionary Values\n",
    "\n",
    "print(student[\"name\"]) # Accessing the value associated with the key \"name\"\n",
    "print(student[\"age\"]) # Accessing the value associated with the key \"age\"\n",
    "#print(student[\"last_name\"]) # Accessing the value associated with the key \"Grade\""
   ]
  },
  {
   "cell_type": "code",
   "execution_count": 10,
   "id": "0f316a62",
   "metadata": {},
   "outputs": [
    {
     "name": "stdout",
     "output_type": "stream",
     "text": [
      "Jane Smith\n",
      "20\n",
      "None\n",
      "Key not found\n"
     ]
    }
   ],
   "source": [
    "### Accessing Dictionary Values with get() Method   \n",
    "\n",
    "print(student.get(\"name\")) # Accessing the value associated with the key \"name\" using get() method\n",
    "print(student.get(\"age\")) # Accessing the value associated with the key \"age\" using get() method\n",
    "print(student.get(\"last_name\")) # Accessing the value associated with the key \"Grade\" using get() method --> If the key does not exist, it will return None instead of raising an error.\n",
    "print(student.get(\"last_name\", \"Key not found\")) # Accessing the value associated with the key \"Grade\" using get() method --> If the key does not exist, it will return \"Key not found\" instead of raising an error.\n",
    "\n"
   ]
  },
  {
   "cell_type": "code",
   "execution_count": null,
   "id": "8ade40d2",
   "metadata": {},
   "outputs": [
    {
     "name": "stdout",
     "output_type": "stream",
     "text": [
      "{'name': 'Jane Smith', 'age': 19, 'Grade': 'A', 'major': 'Computer Science', 'Country': 'India'}\n"
     ]
    }
   ],
   "source": [
    "### Modifying Dictionary Values\n",
    "student[\"age\"] =19 #Modifying the value\n",
    "student[\"Country\"] =\"India\" # Added the new key-value pair\n",
    "print(student)"
   ]
  },
  {
   "cell_type": "code",
   "execution_count": 27,
   "id": "dc178a86",
   "metadata": {},
   "outputs": [
    {
     "name": "stdout",
     "output_type": "stream",
     "text": [
      "{'name': 'Jane Smith', 'age': 19, 'Grade': 'A'}\n"
     ]
    }
   ],
   "source": [
    " ### Deleting Dictionary Values\n",
    " \n",
    " #del student[\"Country\"] #Deleting the key-value pair\n",
    " del student[\"major\"]\n",
    " print(student)"
   ]
  },
  {
   "cell_type": "code",
   "execution_count": 28,
   "id": "0d4767cb",
   "metadata": {},
   "outputs": [
    {
     "name": "stdout",
     "output_type": "stream",
     "text": [
      "dict_keys(['name', 'age', 'Grade'])\n",
      "dict_values(['Jane Smith', 19, 'A'])\n",
      "dict_items([('name', 'Jane Smith'), ('age', 19), ('Grade', 'A')])\n"
     ]
    }
   ],
   "source": [
    "### Dictionary Methods\n",
    "\n",
    "keys = student.keys() # Returns a keys in student dictionary\n",
    "print(keys)\n",
    "\n",
    "values = student.values() # Returns a values in student dictionary\n",
    "print(values)\n",
    "\n",
    "items = student.items() # Returns a key-value pairs in student dictionary\n",
    "print(items)\n"
   ]
  },
  {
   "cell_type": "code",
   "execution_count": 30,
   "id": "89026bf7",
   "metadata": {},
   "outputs": [
    {
     "name": "stdout",
     "output_type": "stream",
     "text": [
      "{'name': 'Jane Smith', 'age': 19, 'Grade': 'A'}\n",
      "{'name': 'Jane Smith', 'age': 22, 'Grade': 'A'}\n",
      "{'name': 'Jane Smith', 'age': 22, 'Grade': 'A'}\n"
     ]
    }
   ],
   "source": [
    "### Shallow Copy\n",
    "\n",
    "shallow_copy = student\n",
    "print(shallow_copy)\n",
    "\n",
    "student[\"age\"] =22 # Modifying the value in the original dictionary\n",
    "print(student)\n",
    "print(shallow_copy) # The shallow copy will also reflect the change made in the original dictionary"
   ]
  },
  {
   "cell_type": "code",
   "execution_count": 33,
   "id": "33860ffc",
   "metadata": {},
   "outputs": [
    {
     "name": "stdout",
     "output_type": "stream",
     "text": [
      "{'name': 'Peter Parker', 'age': 22, 'Grade': 'A'}\n",
      "{'name': 'Peter Parker', 'age': 22, 'Grade': 'A'}\n",
      "{'name': 'Bruce Wayne', 'age': 22, 'Grade': 'A'}\n"
     ]
    }
   ],
   "source": [
    "shallow_copy1 = student.copy() # Creating a shallow copy of the dictionary using the copy() method\n",
    "print(shallow_copy1)\n",
    "\n",
    "student['name'] = 'Peter Parker' # Modifying the value in the original dictionary\n",
    "#print(student)\n",
    "#print(shallow_copy1) # The shallow copy will not reflect the change made in the original dictionary\n",
    "shallow_copy1['name'] = 'Bruce Wayne' # Modifying the value in the shallow copy\n",
    "print(student)\n",
    "print(shallow_copy1) # The shallow copy will not reflect the change made in the original dictionary"
   ]
  },
  {
   "cell_type": "code",
   "execution_count": 36,
   "id": "1b56c6b8",
   "metadata": {},
   "outputs": [
    {
     "name": "stdout",
     "output_type": "stream",
     "text": [
      "name\n",
      "age\n",
      "Grade\n",
      "Peter Parker\n",
      "22\n",
      "A\n",
      "name Peter Parker\n",
      "age 22\n",
      "Grade A\n"
     ]
    }
   ],
   "source": [
    "### Iterating through a Dictionary\n",
    "\n",
    "for key in student.keys():\n",
    "    print(key) # Printing the keys of the dictionary\n",
    "\n",
    "for value in student.values():\n",
    "    print(value)\n",
    "\n",
    "for key,value in student.items():\n",
    "    print(key, value) # Printing the key-value pairs of the dictionary"
   ]
  },
  {
   "cell_type": "code",
   "execution_count": 37,
   "id": "fba727c6",
   "metadata": {},
   "outputs": [
    {
     "name": "stdout",
     "output_type": "stream",
     "text": [
      "{'student1': {'name': 'John Doe', 'age': 20, 'Grade': 'A', 'major': 'Computer Science'}, 'student2': {'name': 'Jane Smith', 'age': 22, 'Grade': 'B', 'major': 'Mathematics'}}\n",
      "20\n"
     ]
    }
   ],
   "source": [
    "### Nested Dictionary\n",
    "\n",
    "nested_dict = {\n",
    "    'student1': {\n",
    "        'name': 'John Doe',\n",
    "        'age': 20,\n",
    "        'Grade': 'A',\n",
    "        'major': 'Computer Science'\n",
    "    },\n",
    "    'student2': {\n",
    "        'name': 'Jane Smith',\n",
    "        'age': 22,\n",
    "        'Grade': 'B',\n",
    "        'major': 'Mathematics'\n",
    "    }\n",
    "}\n",
    "\n",
    "print(nested_dict)\n",
    "print(nested_dict['student1']['age']) # Accessing the first student's information"
   ]
  },
  {
   "cell_type": "code",
   "execution_count": 40,
   "id": "14e18b26",
   "metadata": {},
   "outputs": [
    {
     "name": "stdout",
     "output_type": "stream",
     "text": [
      "student1 {'name': 'John Doe', 'age': 20, 'Grade': 'A', 'major': 'Computer Science'}\n",
      "name John Doe\n",
      "age 20\n",
      "Grade A\n",
      "major Computer Science\n",
      "student2 {'name': 'Jane Smith', 'age': 22, 'Grade': 'B', 'major': 'Mathematics'}\n",
      "name Jane Smith\n",
      "age 22\n",
      "Grade B\n",
      "major Mathematics\n"
     ]
    }
   ],
   "source": [
    "### Iterating through a Nested Dictionary\n",
    "\n",
    "for student, info in nested_dict.items():\n",
    "    print(student,info) # Printing the keys of the nested dictionary\n",
    "    for key, value in info.items():\n",
    "        print(key, value)"
   ]
  },
  {
   "cell_type": "code",
   "execution_count": 41,
   "id": "17164571",
   "metadata": {},
   "outputs": [
    {
     "name": "stdout",
     "output_type": "stream",
     "text": [
      "{1: 1, 2: 4, 3: 9, 4: 16, 5: 25}\n"
     ]
    }
   ],
   "source": [
    "## dictionary comprehension\n",
    "\n",
    "squares = {x: x**2 for x in range (1,6)}\n",
    "print (squares)"
   ]
  },
  {
   "cell_type": "code",
   "execution_count": 42,
   "id": "10038733",
   "metadata": {},
   "outputs": [
    {
     "name": "stdout",
     "output_type": "stream",
     "text": [
      "{2: 4, 4: 16, 6: 36, 8: 64, 10: 100}\n"
     ]
    }
   ],
   "source": [
    "even_squares ={ x: x**2 for x in range (1,11) if x%2 ==0}\n",
    "print (even_squares)"
   ]
  },
  {
   "cell_type": "code",
   "execution_count": null,
   "id": "09cefc31",
   "metadata": {},
   "outputs": [
    {
     "name": "stdout",
     "output_type": "stream",
     "text": [
      "{1: 1, 2: 4, 3: 3, 4: 3}\n"
     ]
    }
   ],
   "source": [
    "### Use the dictionary to count the frequency of numbers in a list.\n",
    "\n",
    "numbers =[1,2,2,2,3,3,3,4,4,2,4]\n",
    "frequency = {}\n",
    "\n",
    "for number in numbers:\n",
    "    if number in frequency:\n",
    "        frequency [number] += 1\n",
    "    else:\n",
    "        frequency [number] = 1\n",
    "print (frequency)"
   ]
  },
  {
   "cell_type": "code",
   "execution_count": 1,
   "id": "a535cb61",
   "metadata": {},
   "outputs": [
    {
     "name": "stdout",
     "output_type": "stream",
     "text": [
      "{'a': 1, 'b': 3, 'c': 4}\n"
     ]
    }
   ],
   "source": [
    "dict1 = {\"a\":1,\"b\":2}\n",
    "dict2 = {\"b\":3,\"c\":4}\n",
    "merged_dict = {**dict1,**dict2}\n",
    "print(merged_dict) # Merging two dictionaries using unpacking operator\n",
    "\n"
   ]
  },
  {
   "cell_type": "code",
   "execution_count": 2,
   "id": "aef4db2e",
   "metadata": {},
   "outputs": [
    {
     "name": "stdout",
     "output_type": "stream",
     "text": [
      "{\"title\": \"To Kill a Mockingbird\", \"author\": \"Harper Lee\", \"year\": 1960, \"genre\": \"Fiction\"}\n"
     ]
    }
   ],
   "source": [
    "import json\n",
    "\n",
    "book = {\n",
    "    'title': 'To Kill a Mockingbird',\n",
    "    'author': 'Harper Lee',\n",
    "    'year': 1960,\n",
    "    'genre': 'Fiction'\n",
    "}\n",
    "book_json = json.dumps(book)\n",
    "print(book_json)"
   ]
  },
  {
   "cell_type": "code",
   "execution_count": null,
   "id": "909c5fba",
   "metadata": {},
   "outputs": [],
   "source": []
  },
  {
   "cell_type": "code",
   "execution_count": null,
   "id": "1e9866af",
   "metadata": {},
   "outputs": [],
   "source": []
  },
  {
   "cell_type": "code",
   "execution_count": null,
   "id": "1723a12d",
   "metadata": {},
   "outputs": [],
   "source": []
  },
  {
   "cell_type": "code",
   "execution_count": null,
   "id": "7f93ecb7",
   "metadata": {},
   "outputs": [],
   "source": []
  },
  {
   "cell_type": "code",
   "execution_count": null,
   "id": "3e9b60c8",
   "metadata": {},
   "outputs": [],
   "source": []
  },
  {
   "cell_type": "code",
   "execution_count": null,
   "id": "9998519d",
   "metadata": {},
   "outputs": [],
   "source": []
  }
 ],
 "metadata": {
  "kernelspec": {
   "display_name": "Python 3",
   "language": "python",
   "name": "python3"
  },
  "language_info": {
   "codemirror_mode": {
    "name": "ipython",
    "version": 3
   },
   "file_extension": ".py",
   "mimetype": "text/x-python",
   "name": "python",
   "nbconvert_exporter": "python",
   "pygments_lexer": "ipython3",
   "version": "3.12.0"
  }
 },
 "nbformat": 4,
 "nbformat_minor": 5
}
