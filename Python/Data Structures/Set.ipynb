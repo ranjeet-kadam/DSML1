{
 "cells": [
  {
   "cell_type": "code",
   "execution_count": 1,
   "id": "18f14c8e",
   "metadata": {},
   "outputs": [
    {
     "name": "stdout",
     "output_type": "stream",
     "text": [
      "1\n",
      "3\n",
      "6\n",
      "Set1: {1, 3, 6}\n",
      "Set2: {3, 4, 5}\n",
      "Union: {1, 3, 4, 5, 6}\n",
      "Intersection: {3}\n",
      "Difference: {1, 6}\n",
      "Symmetric Difference: {1, 4, 5, 6}\n",
      "Is 3 in Set1?: True\n"
     ]
    }
   ],
   "source": [
    "# Creating sets\n",
    "set1 = {1, 2, 3}\n",
    "set2 = {3, 4, 5}\n",
    "\n",
    "# Adding and removing elements\n",
    "set1.add(6)\n",
    "set1.discard(2)\n",
    "\n",
    "# Set operations\n",
    "union = set1 | set2\n",
    "intersection = set1 & set2\n",
    "difference = set1 - set2\n",
    "symmetric_difference = set1 ^ set2\n",
    "\n",
    "# Membership check\n",
    "is_member = 3 in set1\n",
    "\n",
    "# Iterating through a set\n",
    "for element in set1:\n",
    "    print(element)\n",
    "\n",
    "# Output results\n",
    "print(\"Set1:\", set1)\n",
    "print(\"Set2:\", set2)\n",
    "print(\"Union:\", union)\n",
    "print(\"Intersection:\", intersection)\n",
    "print(\"Difference:\", difference)\n",
    "print(\"Symmetric Difference:\", symmetric_difference)\n",
    "print(\"Is 3 in Set1?:\", is_member)"
   ]
  },
  {
   "cell_type": "code",
   "execution_count": 2,
   "id": "fe329aa2",
   "metadata": {},
   "outputs": [
    {
     "name": "stdout",
     "output_type": "stream",
     "text": [
      "<class 'dict'>\n"
     ]
    }
   ],
   "source": [
    "set1 = {}\n",
    "print(type(set1))  # This will print <class 'dict'>, not a set"
   ]
  },
  {
   "cell_type": "code",
   "execution_count": 3,
   "id": "a6632e23",
   "metadata": {},
   "outputs": [
    {
     "name": "stdout",
     "output_type": "stream",
     "text": [
      "<class 'dict'>\n",
      "<class 'set'>\n",
      "{1, 2, 3, 34, 5}\n"
     ]
    }
   ],
   "source": [
    "set1 = {}  # This creates an empty dictionary\n",
    "print(type(set1))  # Output: <class 'dict'>\n",
    "\n",
    "set1 = set([1,2,3,3,34,5])  # This creates an empty set\n",
    "print(type(set1))  # Output: <class 'set'>\n",
    "print(set1)  # Output: {1, 2, 3, 34, 5} (duplicates are removed)"
   ]
  },
  {
   "cell_type": "code",
   "execution_count": 8,
   "id": "ad41ffce",
   "metadata": {},
   "outputs": [
    {
     "name": "stdout",
     "output_type": "stream",
     "text": [
      "{1, 3, 34, 5, 6}\n",
      "{1, 3, 34, 5, 6}\n"
     ]
    }
   ],
   "source": [
    "### Basic set operations\n",
    "### Adding and removing elements\n",
    "\n",
    "set1.add(6)  # Adding an element\n",
    "print(set1)  \n",
    "\n",
    "#set1.remove(2)  # Removing an element\n",
    "#print(set1)\n",
    "\n",
    "set1.discard(10)  # Discarding an element (no error if not found)\n",
    "print(set1)"
   ]
  },
  {
   "cell_type": "code",
   "execution_count": 10,
   "id": "cdf8fa0d",
   "metadata": {},
   "outputs": [
    {
     "name": "stdout",
     "output_type": "stream",
     "text": [
      "{34, 5, 6}\n",
      "set()\n"
     ]
    }
   ],
   "source": [
    "## Pop and clear methods\n",
    "set1.pop()  # Removes and returns an arbitrary element\n",
    "print(set1)  # Set after pop\n",
    "\n",
    "set1.clear()  # Clears the set\n",
    "print(set1)  # Set after clear (empty set)"
   ]
  },
  {
   "cell_type": "code",
   "execution_count": 16,
   "id": "573c6e74",
   "metadata": {},
   "outputs": [
    {
     "name": "stdout",
     "output_type": "stream",
     "text": [
      "Union: {1, 2, 3, 4, 5}\n",
      "Intersection: {2}\n",
      "Difference: {1, 3}\n",
      "Symmetric Difference: {1, 3, 4, 5}\n"
     ]
    }
   ],
   "source": [
    "## Mathematical operations\n",
    "\n",
    "set1 = {1, 2, 3}\n",
    "set2 = {2, 4, 5}\n",
    "\n",
    "# 1. Union\n",
    "union = set1 | set2  # or set1.union(set2)\n",
    "print(\"Union:\", union)  # Output: {1, 2, 3, 4, 5}\n",
    "\n",
    "## 2. Intersection\n",
    "intersection = set1 & set2  # or set1.intersection(set2)\n",
    "print(\"Intersection:\", intersection)  # Output: {3}\n",
    "\n",
    "## 3. Difference\n",
    "difference = set1 - set2  # or set1.difference(set2)\n",
    "print(\"Difference:\", difference)  # Output: {1, 3}\n",
    "\n",
    "## 4. Symmetric Difference\n",
    "symmetric_difference = set1 ^ set2  # or set1.symmetric_difference(set2)    \n",
    "print(\"Symmetric Difference:\", symmetric_difference)  # Output: {1, 3, 4, 5}"
   ]
  },
  {
   "cell_type": "code",
   "execution_count": null,
   "id": "2ae20700",
   "metadata": {},
   "outputs": [],
   "source": []
  }
 ],
 "metadata": {
  "kernelspec": {
   "display_name": "Python 3",
   "language": "python",
   "name": "python3"
  },
  "language_info": {
   "codemirror_mode": {
    "name": "ipython",
    "version": 3
   },
   "file_extension": ".py",
   "mimetype": "text/x-python",
   "name": "python",
   "nbconvert_exporter": "python",
   "pygments_lexer": "ipython3",
   "version": "3.12.0"
  }
 },
 "nbformat": 4,
 "nbformat_minor": 5
}
