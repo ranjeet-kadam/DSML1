{
 "cells": [
  {
   "cell_type": "code",
   "execution_count": null,
   "id": "cc1119a4",
   "metadata": {},
   "outputs": [],
   "source": [
    "# Basic tuple operations\n",
    "tup1 = (1, 2, 3, 4, 5)\n",
    "tup2 = ('a', 'b', 'c')\n",
    "\n",
    "# Tuple methods and operations\n",
    "print(\"Length:\", len(tup1))\n",
    "print(\"Count of 2:\", tup1.count(2))\n",
    "print(\"Index of 3:\", tup1.index(3))\n",
    "print(\"Concatenation:\", tup1 + tup2)\n",
    "print(\"Slicing:\", tup1[1:4])\n",
    "\n",
    "# Tuple unpacking\n",
    "x, y, z = tup2\n",
    "print(\"Unpacked values:\", x, y, z)\n",
    "\n",
    "# Nested tuple\n",
    "nested_tup = ((1, 2), (3, 4))\n",
    "print(\"Nested tuple:\", nested_tup)\n",
    "\n",
    "# Tuple with single element\n",
    "single_tup = (1,)\n",
    "print(\"Single element tuple:\", single_tup)\n",
    "\n",
    "# Interview problem: Swap two numbers using tuple\n",
    "def swap_numbers(a, b):\n",
    "    a, b = b, a\n",
    "    return a, b\n",
    "\n",
    "# LeetCode Easy: Convert array to tuple and find sum\n",
    "def array_pair_sum(nums):\n",
    "    nums.sort()\n",
    "    return sum(nums[::2])\n",
    "\n",
    "# LeetCode Medium: Encode and decode strings using tuple\n",
    "def encode(strs):\n",
    "    return tuple(strs)\n",
    "\n",
    "def decode(encoded_tuple):\n",
    "    return list(encoded_tuple)\n",
    "\n",
    "# Test the functions\n",
    "print(\"\\nSwap numbers:\", swap_numbers(5, 10))\n",
    "print(\"Array pair sum:\", array_pair_sum([1,4,3,2]))\n",
    "print(\"Encode/Decode:\", decode(encode(['Hello', 'World'])))"
   ]
  },
  {
   "cell_type": "code",
   "execution_count": 1,
   "id": "c8710d9d",
   "metadata": {},
   "outputs": [
    {
     "name": "stdout",
     "output_type": "stream",
     "text": [
      "(1, 'ragini', 2.5, True)\n"
     ]
    }
   ],
   "source": [
    "tup = (1,'ragini',2.5,True)\n",
    "print(tup)"
   ]
  },
  {
   "cell_type": "code",
   "execution_count": 8,
   "id": "67e1d69a",
   "metadata": {},
   "outputs": [
    {
     "name": "stdout",
     "output_type": "stream",
     "text": [
      "('ragini', 2.5, True)\n"
     ]
    }
   ],
   "source": [
    "tup[1]\n",
    "print(tup[1:5])"
   ]
  },
  {
   "cell_type": "code",
   "execution_count": 9,
   "id": "d955f525",
   "metadata": {},
   "outputs": [
    {
     "ename": "TypeError",
     "evalue": "'tuple' object does not support item assignment",
     "output_type": "error",
     "traceback": [
      "\u001b[1;31m---------------------------------------------------------------------------\u001b[0m",
      "\u001b[1;31mTypeError\u001b[0m                                 Traceback (most recent call last)",
      "Cell \u001b[1;32mIn[9], line 1\u001b[0m\n\u001b[1;32m----> 1\u001b[0m \u001b[43mtup\u001b[49m\u001b[43m[\u001b[49m\u001b[38;5;241;43m1\u001b[39;49m\u001b[43m]\u001b[49m \u001b[38;5;241m=\u001b[39m \u001b[38;5;124m'\u001b[39m\u001b[38;5;124mRagini\u001b[39m\u001b[38;5;124m'\u001b[39m\n\u001b[0;32m      2\u001b[0m \u001b[38;5;28mprint\u001b[39m(tup[\u001b[38;5;241m1\u001b[39m])\n",
      "\u001b[1;31mTypeError\u001b[0m: 'tuple' object does not support item assignment"
     ]
    }
   ],
   "source": [
    "tup[1] = 'Ragini'\n",
    "print(tup[1])"
   ]
  },
  {
   "cell_type": "code",
   "execution_count": null,
   "id": "706634a2",
   "metadata": {},
   "outputs": [
    {
     "name": "stdout",
     "output_type": "stream",
     "text": [
      "[1, 'ragini', 2.5, True]\n",
      "[1, 'asha', 2.5, True]\n"
     ]
    }
   ],
   "source": [
    "### Convert tuple to list and modify\n",
    "lst = list(tup)\n",
    "print(lst)\n",
    "lst[1] = 'asha'\n",
    "print(lst)"
   ]
  },
  {
   "cell_type": "code",
   "execution_count": 11,
   "id": "0b4cca1c",
   "metadata": {},
   "outputs": [
    {
     "name": "stdout",
     "output_type": "stream",
     "text": [
      "(1, 'asha', 2.5, True)\n"
     ]
    }
   ],
   "source": [
    "### Convert list to tuple\n",
    "tup = tuple(lst)\n",
    "print(tup)"
   ]
  },
  {
   "cell_type": "code",
   "execution_count": 12,
   "id": "4b42c26c",
   "metadata": {},
   "outputs": [
    {
     "name": "stdout",
     "output_type": "stream",
     "text": [
      "2\n",
      "2\n"
     ]
    }
   ],
   "source": [
    "### Tuple Methods\n",
    "tup = (1,2,3,4,5,6,7,8,9,10,1,3,5,7,8,9,10)\n",
    "print(tup.count(1))  # Count occurrences of 1\n",
    "print(tup.index(3))  # Find index of first occurrence of 3"
   ]
  },
  {
   "cell_type": "code",
   "execution_count": 14,
   "id": "d3e2c527",
   "metadata": {},
   "outputs": [
    {
     "name": "stdout",
     "output_type": "stream",
     "text": [
      "(1, 'Arjun', 2.5, 'Amit')\n",
      "1\n",
      "Arjun\n",
      "2.5\n",
      "Amit\n"
     ]
    }
   ],
   "source": [
    "### Packing and Unpacking the tuple\n",
    "Pack_tup = 1,'Arjun',2.5,'Amit'\n",
    "print(Pack_tup)\n",
    "\n",
    "a,b,c,d = Pack_tup\n",
    "print(a)\n",
    "print(b)\n",
    "print(c)\n",
    "print(d)"
   ]
  },
  {
   "cell_type": "code",
   "execution_count": 15,
   "id": "c0633bd2",
   "metadata": {},
   "outputs": [
    {
     "name": "stdout",
     "output_type": "stream",
     "text": [
      "1\n",
      "[2, 3, 4, 5, 6, 7, 8, 9]\n",
      "10\n"
     ]
    }
   ],
   "source": [
    "a= 1,2,3,4,5,6,7,8,9,10\n",
    "first, *middle, last = a\n",
    "print(first)  # First element\n",
    "print(middle)  # Middle elements\n",
    "print(last)  # Last element"
   ]
  },
  {
   "cell_type": "code",
   "execution_count": 17,
   "id": "b1bdeada",
   "metadata": {},
   "outputs": [
    {
     "name": "stdout",
     "output_type": "stream",
     "text": [
      "[[1, 2, 3], [2, 'Amit', 4], (4, 'Abhi', 5)]\n"
     ]
    }
   ],
   "source": [
    "### Neatest Tuple\n",
    "\n",
    "lst =[[1,2,3],[2,3,4],(4,'Abhi',5)]\n",
    "lst[1][1] = 'Amit'\n",
    "print(lst)"
   ]
  },
  {
   "cell_type": "code",
   "execution_count": 20,
   "id": "2e6b211e",
   "metadata": {},
   "outputs": [
    {
     "name": "stdout",
     "output_type": "stream",
     "text": [
      "6\n",
      "1\n",
      "False\n"
     ]
    }
   ],
   "source": [
    "tup1 =((2,4,6),(1,3,5),(True,False))\n",
    "print(tup1[0][2])  # Accessing nested tuple element\n",
    "print(tup1[1][0])  # Accessing nested tuple element\n",
    "print(tup1[2][1])  # Accessing nested tuple element"
   ]
  },
  {
   "cell_type": "code",
   "execution_count": 22,
   "id": "96732dd0",
   "metadata": {},
   "outputs": [
    {
     "name": "stdout",
     "output_type": "stream",
     "text": [
      "2 4 6 1 3 5 True False "
     ]
    }
   ],
   "source": [
    "#### Accesing tuple elements using loop\n",
    "for i in (tup1):\n",
    "    for j in i:\n",
    "        print(j, end=' ')"
   ]
  },
  {
   "cell_type": "code",
   "execution_count": null,
   "id": "2f954a71",
   "metadata": {},
   "outputs": [],
   "source": []
  }
 ],
 "metadata": {
  "kernelspec": {
   "display_name": "Python 3",
   "language": "python",
   "name": "python3"
  },
  "language_info": {
   "codemirror_mode": {
    "name": "ipython",
    "version": 3
   },
   "file_extension": ".py",
   "mimetype": "text/x-python",
   "name": "python",
   "nbconvert_exporter": "python",
   "pygments_lexer": "ipython3",
   "version": "3.12.0"
  }
 },
 "nbformat": 4,
 "nbformat_minor": 5
}
