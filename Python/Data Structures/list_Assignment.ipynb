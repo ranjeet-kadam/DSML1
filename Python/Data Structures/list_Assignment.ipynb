{
 "cells": [
  {
   "cell_type": "markdown",
   "id": "5960ca27",
   "metadata": {},
   "source": [
    "# Module 3: Data Structures Assignments\n",
    "## Lesson 3.1: Lists\n",
    "### Assignment 1: Creating and Accessing Lists\n",
    "\n",
    "Create a list of the first 20 positive integers. Print the list.\n",
    "\n",
    "### Assignment 2: Accessing List Elements\n",
    "\n",
    "Print the first, middle, and last elements of the list created in Assignment 1.\n",
    "\n",
    "### Assignment 3: List Slicing\n",
    "\n",
    "Print the first five elements, the last five elements, and the elements from index 5 to 15 of the list created in Assignment 1.\n",
    "\n",
    "### Assignment 4: List Comprehensions\n",
    "\n",
    "Create a new list containing the squares of the first 10 positive integers using a list comprehension. Print the new list.\n",
    "\n",
    "### Assignment 5: Filtering Lists\n",
    "\n",
    "Create a new list containing only the even numbers from the list created in Assignment 1 using a list comprehension. Print the new list.\n",
    "\n",
    "### Assignment 6: List Methods\n",
    "\n",
    "Create a list of random numbers and sort it in ascending and descending order. Remove the duplicates from the list and print the modified list.\n",
    "\n",
    "### Assignment 7: Nested Lists\n",
    "\n",
    "Create a nested list representing a 3x3 matrix and print the matrix. Access and print the element at the second row and third column.\n",
    "\n",
    "### Assignment 8: List of Dictionaries\n",
    "\n",
    "Create a list of dictionaries where each dictionary represents a student with keys 'name' and 'score'. Sort the list of dictionaries by the 'score' in descending order and print the sorted list.\n",
    "\n",
    "### Assignment 9: Matrix Transposition\n",
    "\n",
    "Write a function that takes a 3x3 matrix (nested list) as input and returns its transpose. Print the original and transposed matrices.\n",
    "\n",
    "### Assignment 10: Flattening a Nested List\n",
    "\n",
    "Write a function that takes a nested list and flattens it into a single list. Print the original and flattened lists.\n",
    "\n",
    "### Assignment 11: List Manipulation\n",
    "\n",
    "Create a list of the first 10 positive integers. Remove the elements at indices 2, 4, and 6, and insert the element '99' at index 5. Print the modified list.\n",
    "\n",
    "### Assignment 12: List Zipping\n",
    "\n",
    "Create two lists of the same length. Use the `zip` function to combine these lists into a list of tuples and print the result.\n",
    "\n",
    "### Assignment 13: List Reversal\n",
    "\n",
    "Write a function that takes a list and returns a new list with the elements in reverse order. Print the original and reversed lists.\n",
    "\n",
    "### Assignment 14: List Rotation\n",
    "\n",
    "Write a function that rotates a list by n positions. Print the original and rotated lists.\n",
    "\n",
    "### Assignment 15: List Intersection\n",
    "\n",
    "Write a function that takes two lists and returns a new list containing only the elements that are present in both lists. Print the intersected list."
   ]
  },
  {
   "cell_type": "code",
   "execution_count": 3,
   "id": "c2f958e3",
   "metadata": {},
   "outputs": [
    {
     "name": "stdout",
     "output_type": "stream",
     "text": [
      "[1, 2, 3, 4, 5, 6, 7, 8, 9, 10, 11, 12, 13, 14, 15, 16, 17, 18, 19, 20]\n"
     ]
    }
   ],
   "source": [
    "### Create a list of the first 20 positive integers. Print the list.\n",
    "\n",
    "lst = list(range(1,21))\n",
    "print(lst)"
   ]
  },
  {
   "cell_type": "code",
   "execution_count": 9,
   "id": "96c1b952",
   "metadata": {},
   "outputs": [
    {
     "name": "stdout",
     "output_type": "stream",
     "text": [
      "First Number in list is : 1\n",
      "Middle Number in list is : 11\n",
      "Last Number in the list is : 20\n"
     ]
    }
   ],
   "source": [
    "### Print the first, middle, and last elements of the list created in Assignment 1.\n",
    "\n",
    "print(\"First Number in list is :\",lst[0])\n",
    "print(\"Middle Number in list is :\",lst[len(lst) //2])\n",
    "print(\"Last Number in the list is :\",lst[-1])"
   ]
  },
  {
   "cell_type": "code",
   "execution_count": 21,
   "id": "bf3df036",
   "metadata": {},
   "outputs": [
    {
     "name": "stdout",
     "output_type": "stream",
     "text": [
      "First 5 Numbers in list :[1, 2, 3, 4, 5]\n",
      "Last 5 Numbers in list :[16, 17, 18, 19, 20]\n",
      "index 5 to 15 of the list :[6, 7, 8, 9, 10, 11, 12, 13, 14, 15, 16]\n"
     ]
    }
   ],
   "source": [
    "### Print the first five elements, the last five elements, and the elements from index 5 to 15 of the list created in Assignment 1.\n",
    "\n",
    "print(f\"First 5 Numbers in list :{lst[:5]}\")\n",
    "print(f\"Last 5 Numbers in list :{lst[15:]}\")\n",
    "print(f\"index 5 to 15 of the list :{lst[5:16]}\")"
   ]
  },
  {
   "cell_type": "code",
   "execution_count": 23,
   "id": "fdf60f32",
   "metadata": {},
   "outputs": [
    {
     "name": "stdout",
     "output_type": "stream",
     "text": [
      "[1, 4, 9, 16, 25, 36, 49, 64, 81, 100]\n"
     ]
    }
   ],
   "source": [
    "### Create a new list containing the squares of the first 10 positive integers using a list comprehension. Print the new list.\n",
    "squares = [i** 2 for i in range (1,11)]\n",
    "print(squares)"
   ]
  },
  {
   "cell_type": "code",
   "execution_count": 25,
   "id": "b3911d4f",
   "metadata": {},
   "outputs": [
    {
     "name": "stdout",
     "output_type": "stream",
     "text": [
      "[2, 4, 6, 8, 10, 12, 14, 16, 18, 20]\n"
     ]
    }
   ],
   "source": [
    "### Create a new list containing only the even numbers from the list created in Assignment 1 using a list comprehension. Print the new list.\n",
    "\n",
    "even_num =[j for j in lst if j%2 ==0]\n",
    "print(even_num)"
   ]
  },
  {
   "cell_type": "code",
   "execution_count": null,
   "id": "85c123e3",
   "metadata": {},
   "outputs": [
    {
     "name": "stdout",
     "output_type": "stream",
     "text": [
      "[1, 2, 17, 15, 2, 8, 16, 17, 15, 4, 5, 15, 19, 16, 15]\n",
      "[1, 2, 2, 4, 5, 8, 15, 15, 15, 15, 16, 16, 17, 17, 19]\n",
      "[1, 2, 4, 5, 8, 15, 16, 17, 19]\n"
     ]
    }
   ],
   "source": [
    "### Create a list of random numbers and sort it in ascending and descending order. Remove the duplicates from the list and print the modified list.\n",
    "import random\n",
    "#Random List\n",
    "random_list = [random.randint(1,20) for _ in range(15)]\n",
    "print(random_list)\n",
    "\n",
    "# Sorted List\n",
    "sorted_list = sorted(random_list)\n",
    "print(sorted_list)\n",
    "\n",
    "# Remove duplicate\n",
    "unique_list = list(set(random_list))\n",
    "print(unique_list)"
   ]
  },
  {
   "cell_type": "code",
   "execution_count": 34,
   "id": "65f1663a",
   "metadata": {},
   "outputs": [
    {
     "name": "stdout",
     "output_type": "stream",
     "text": [
      "[[1, 2, 3], [4, 5, 6], [7, 8, 9]]\n",
      "[1, 2, 3]\n",
      "[4, 5, 6]\n",
      "[7, 8, 9]\n",
      "6\n"
     ]
    }
   ],
   "source": [
    "### Create a nested list representing a 3x3 matrix and print the matrix. Access and print the element at the second row and third column.\n",
    "\n",
    "matrix = [\n",
    "    [1,2,3],\n",
    "    [4,5,6],\n",
    "    [7,8,9]\n",
    "]\n",
    "print(matrix)\n",
    "\n",
    "for row in matrix:\n",
    "    print(row)\n",
    "print(matrix[1][2])"
   ]
  },
  {
   "cell_type": "code",
   "execution_count": 41,
   "id": "cae0d7be",
   "metadata": {},
   "outputs": [
    {
     "name": "stdout",
     "output_type": "stream",
     "text": [
      "[{'name': 'Martin', 'score': 88}, {'name': 'Austin', 'score': 65}, {'name': 'Lucey', 'score': 60}, {'name': 'Bob', 'score': 84}]\n",
      "[{'name': 'Martin', 'score': 88}, {'name': 'Bob', 'score': 84}, {'name': 'Austin', 'score': 65}, {'name': 'Lucey', 'score': 60}]\n",
      "{'name': 'Martin', 'score': 88}\n",
      "{'name': 'Bob', 'score': 84}\n",
      "{'name': 'Austin', 'score': 65}\n",
      "{'name': 'Lucey', 'score': 60}\n"
     ]
    }
   ],
   "source": [
    "### Create a list of dictionaries where each dictionary represents a student with keys 'name' and 'score'. Sort the list of dictionaries by the 'score'\n",
    "#  in descending order and print the sorted list.\n",
    "\n",
    "stud_list = [\n",
    "    {'name' : \"Martin\",'score':88},\n",
    "    {'name' : \"Austin\",'score':65},\n",
    "    {'name' : \"Lucey\",'score':60},\n",
    "    {'name' : \"Bob\",'score':84}\n",
    "]\n",
    "\n",
    "print(stud_list)\n",
    "\n",
    "sorted_stud_list = sorted(stud_list,key=lambda x:x['score'],reverse=True)\n",
    "print(sorted_stud_list)\n",
    "\n",
    "for i in sorted_stud_list:\n",
    "    print(i)"
   ]
  },
  {
   "cell_type": "code",
   "execution_count": null,
   "id": "992f8660",
   "metadata": {},
   "outputs": [],
   "source": [
    "### Write a function that takes a 3x3 matrix (nested list) as input and returns its transpose. Print the original and transposed matrices.\n",
    "\n"
   ]
  },
  {
   "cell_type": "code",
   "execution_count": null,
   "id": "13048961",
   "metadata": {},
   "outputs": [
    {
     "name": "stdout",
     "output_type": "stream",
     "text": [
      "[[1, 2, 3], [4, 5, 6], [7, 8, 9]]\n",
      "[1, 2, 3, 4, 5, 6, 7, 8, 9]\n"
     ]
    }
   ],
   "source": [
    "### Write a function that takes a nested list and flattens it into a single list. Print the original and flattened lists.\n",
    "\n",
    "def flatted_list(list1):\n",
    "    flat_list = [i for sublist in list1 for i in sublist]\n",
    "    return flat_list\n",
    "\n",
    "list1 = [\n",
    "    [1, 2, 3],\n",
    "    [4, 5, 6],\n",
    "    [7, 8, 9]\n",
    "]\n",
    "\n",
    "print(list1)\n",
    "flattened_list = flatted_list(list1)\n",
    "print(flattened_list)"
   ]
  },
  {
   "cell_type": "code",
   "execution_count": 49,
   "id": "4734b61d",
   "metadata": {},
   "outputs": [
    {
     "name": "stdout",
     "output_type": "stream",
     "text": [
      "[1, 2, 3, 4, 5, 6, 7, 8, 9, 10]\n",
      "[1, 2, 4, 5, 7, 99, 8, 10]\n"
     ]
    }
   ],
   "source": [
    "### Create a list of the first 10 positive integers. Remove the elements at indices 2, 4, and 6, and insert the element '99' at index 5. Print the modified list.\n",
    "\n",
    "lst1 = list(range(1,11))\n",
    "print(lst1)\n",
    "del lst1[2]\n",
    "del lst1[4]\n",
    "del lst1[6]\n",
    "lst1.insert(5,99)\n",
    "print(lst1)"
   ]
  },
  {
   "cell_type": "code",
   "execution_count": 50,
   "id": "0ebe8608",
   "metadata": {},
   "outputs": [
    {
     "name": "stdout",
     "output_type": "stream",
     "text": [
      "[(1, 7), (2, 8), (3, 9), (4, 10)]\n"
     ]
    }
   ],
   "source": [
    "### Create two lists of the same length. Use the `zip` function to combine these lists into a list of tuples and print the result.\n",
    "\n",
    "zip1 =list(range(1,6))\n",
    "zip2 = list(range(7,11))\n",
    "zipped =list(zip(zip1,zip2))\n",
    "print(zipped)"
   ]
  },
  {
   "cell_type": "code",
   "execution_count": 2,
   "id": "224fbfda",
   "metadata": {},
   "outputs": [
    {
     "name": "stdout",
     "output_type": "stream",
     "text": [
      "81.2\n",
      "98\n",
      "65\n"
     ]
    }
   ],
   "source": [
    "### Managing the student grades\n",
    "\n",
    "grades = [98,85,65,78]\n",
    "\n",
    "grades.append(80)\n",
    "\n",
    "print(sum(grades)/len(grades))\n",
    "print(max(grades))\n",
    "print(min(grades))  \n",
    "\n"
   ]
  },
  {
   "cell_type": "code",
   "execution_count": 9,
   "id": "246f0e0c",
   "metadata": {},
   "outputs": [
    {
     "name": "stdout",
     "output_type": "stream",
     "text": [
      "['Banana', 'Apple', 'Orange', 'Grapes', 'Mango']\n",
      "['Banana', 'Orange', 'Grapes', 'Mango']\n",
      "Banana is in the inventory\n"
     ]
    }
   ],
   "source": [
    "## Managing the inventory\n",
    "\n",
    "inventory = [ 'Banana','Apple','Orange','Grapes']\n",
    "inventory.append('Mango')\n",
    "print(inventory)\n",
    "\n",
    "inventory.remove('Apple')\n",
    "print(inventory)\n",
    "\n",
    "item = 'Banana'\n",
    "   \n",
    "if item in inventory:\n",
    "    print(\"Banana is in the inventory\")\n",
    "else:   \n",
    "    print(\"Banana is not in the inventory\")\n"
   ]
  },
  {
   "cell_type": "code",
   "execution_count": null,
   "id": "2876ae34",
   "metadata": {},
   "outputs": [],
   "source": []
  },
  {
   "cell_type": "code",
   "execution_count": null,
   "id": "e09accf4",
   "metadata": {},
   "outputs": [],
   "source": []
  },
  {
   "cell_type": "code",
   "execution_count": null,
   "id": "c779899c",
   "metadata": {},
   "outputs": [],
   "source": []
  },
  {
   "cell_type": "code",
   "execution_count": null,
   "id": "b75927b6",
   "metadata": {},
   "outputs": [],
   "source": []
  },
  {
   "cell_type": "code",
   "execution_count": null,
   "id": "c8699270",
   "metadata": {},
   "outputs": [],
   "source": []
  }
 ],
 "metadata": {
  "kernelspec": {
   "display_name": "Python 3",
   "language": "python",
   "name": "python3"
  },
  "language_info": {
   "codemirror_mode": {
    "name": "ipython",
    "version": 3
   },
   "file_extension": ".py",
   "mimetype": "text/x-python",
   "name": "python",
   "nbconvert_exporter": "python",
   "pygments_lexer": "ipython3",
   "version": "3.12.0"
  }
 },
 "nbformat": 4,
 "nbformat_minor": 5
}
