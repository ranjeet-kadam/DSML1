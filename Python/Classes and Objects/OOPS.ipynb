{
 "cells": [
  {
   "cell_type": "code",
   "execution_count": 1,
   "id": "c1784bcc",
   "metadata": {},
   "outputs": [
    {
     "name": "stdout",
     "output_type": "stream",
     "text": [
      "<class '__main__.car'>\n"
     ]
    }
   ],
   "source": [
    "### Class i nothing but the blueprint of an object.\n",
    "\n",
    "class car:\n",
    "    pass\n",
    "\n",
    "audi = car()\n",
    "print(type(audi))"
   ]
  },
  {
   "cell_type": "code",
   "execution_count": 5,
   "id": "a27ab40f",
   "metadata": {},
   "outputs": [
    {
     "name": "stdout",
     "output_type": "stream",
     "text": [
      "Puppy says woof....!\n",
      "<__main__.dog object at 0x0000022DE1975850>\n",
      "Puppy\n",
      "5\n"
     ]
    }
   ],
   "source": [
    "### Creating the Constructor for an object.\n",
    "\n",
    "class dog():\n",
    "\n",
    "    def __init__(self,name,age):\n",
    "        self.name = name\n",
    "        self.age =age\n",
    "\n",
    "    def bark(self):\n",
    "        print(f\"{self.name} says woof....!\")\n",
    "\n",
    "### Creating the object\n",
    "\n",
    "dog = dog('Puppy',5)\n",
    "dog.bark()\n",
    "\n",
    "print(dog)\n",
    "print(dog.name)\n",
    "print(dog.age)"
   ]
  },
  {
   "cell_type": "code",
   "execution_count": null,
   "id": "4be8e23c",
   "metadata": {},
   "outputs": [
    {
     "name": "stdout",
     "output_type": "stream",
     "text": [
      "95664\n",
      "78524 is deposited. New Balance is 174188\n"
     ]
    }
   ],
   "source": [
    "### Modelling a bank account\n",
    "\n",
    "class BankAccount:\n",
    "    def __init__(self,owner,balance =0):\n",
    "        self.owner = owner\n",
    "        self.balance = balance\n",
    "\n",
    "    def deposite(self,amount):\n",
    "        self.balance += amount\n",
    "        print(f\"{amount} is deposited. New Balance is {self.balance}\")\n",
    "    \n",
    "    def withdraw(self,amount):\n",
    "        if amount>self.balance:\n",
    "            print(\"Insufficient Funds.!\")\n",
    "        else:\n",
    "            self.balance-=amount\n",
    "            print(f\"{amount} is withdraw. New Balance is {self.balance}.\")\n",
    "\n",
    "    def get_balance(self):\n",
    "        return self.balance\n",
    "    \n",
    "\n",
    "### Create an object\n",
    "\n",
    "account = BankAccount(\"Ranjeet\",95664)\n",
    "print(account.balance)\n",
    "\n",
    "## Call a instance method.\n",
    "account.deposite(78524)\n",
    "\n",
    "\n",
    "\n"
   ]
  },
  {
   "cell_type": "code",
   "execution_count": 9,
   "id": "4f9a3960",
   "metadata": {},
   "outputs": [
    {
     "name": "stdout",
     "output_type": "stream",
     "text": [
      "52000 is withdraw. New Balance is 122188.\n"
     ]
    }
   ],
   "source": [
    "### Withdraw some money\n",
    "\n",
    "account.withdraw(52000)"
   ]
  },
  {
   "cell_type": "code",
   "execution_count": 11,
   "id": "f2dd5ba1",
   "metadata": {},
   "outputs": [
    {
     "data": {
      "text/plain": [
       "122188"
      ]
     },
     "execution_count": 11,
     "metadata": {},
     "output_type": "execute_result"
    }
   ],
   "source": [
    "### Check the balance\n",
    "\n",
    "account.get_balance()"
   ]
  },
  {
   "cell_type": "code",
   "execution_count": null,
   "id": "fd27df56",
   "metadata": {},
   "outputs": [],
   "source": []
  }
 ],
 "metadata": {
  "kernelspec": {
   "display_name": "Python 3",
   "language": "python",
   "name": "python3"
  },
  "language_info": {
   "codemirror_mode": {
    "name": "ipython",
    "version": 3
   },
   "file_extension": ".py",
   "mimetype": "text/x-python",
   "name": "python",
   "nbconvert_exporter": "python",
   "pygments_lexer": "ipython3",
   "version": "3.12.0"
  }
 },
 "nbformat": 4,
 "nbformat_minor": 5
}
