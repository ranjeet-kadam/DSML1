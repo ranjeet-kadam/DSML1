{
 "cells": [
  {
   "cell_type": "markdown",
   "metadata": {},
   "source": [
    "# Module: Classes and Objects Assignments\n",
    "## Lesson: Creating and Working with Classes and Objects\n",
    "### Assignment 1: Basic Class and Object Creation\n",
    "\n",
    "Create a class named `Car` with attributes `make`, `model`, and `year`. Create an object of the class and print its attributes.\n",
    "\n",
    "### Assignment 2: Methods in Class\n",
    "\n",
    "Add a method named `start_engine` to the `Car` class that prints a message when the engine starts. Create an object of the class and call the method.\n",
    "\n",
    "### Assignment 3: Class with Constructor\n",
    "\n",
    "Create a class named `Student` with attributes `name` and `age`. Use a constructor to initialize these attributes. Create an object of the class and print its attributes.\n",
    "\n",
    "### Assignment 4: Class with Private Attributes\n",
    "\n",
    "Create a class named `BankAccount` with private attributes `account_number` and `balance`. Add methods to deposit and withdraw money, and to check the balance. Create an object of the class and perform some operations.\n",
    "\n",
    "### Assignment 5: Class Inheritance\n",
    "\n",
    "Create a base class named `Person` with attributes `name` and `age`. Create a derived class named `Employee` that inherits from `Person` and adds an attribute `employee_id`. Create an object of the derived class and print its attributes.\n",
    "\n",
    "### Assignment 6: Method Overriding\n",
    "\n",
    "In the `Employee` class, override the `__str__` method to return a string representation of the object. Create an object of the class and print it.\n",
    "\n",
    "### Assignment 7: Class Composition\n",
    "\n",
    "Create a class named `Address` with attributes `street`, `city`, and `zipcode`. Create a class named `Person` that has an `Address` object as an attribute. Create an object of the `Person` class and print its address.\n",
    "\n",
    "### Assignment 8: Class with Class Variables\n",
    "\n",
    "Create a class named `Counter` with a class variable `count`. Each time an object is created, increment the count. Add a method to get the current count. Create multiple objects and print the count.\n",
    "\n",
    "### Assignment 9: Static Methods\n",
    "\n",
    "Create a class named `MathOperations` with a static method to calculate the square root of a number. Call the static method without creating an object.\n",
    "\n",
    "### Assignment 10: Class with Properties\n",
    "\n",
    "Create a class named `Rectangle` with private attributes `length` and `width`. Use properties to get and set these attributes. Create an object of the class and test the properties.\n",
    "\n",
    "### Assignment 11: Abstract Base Class\n",
    "\n",
    "Create an abstract base class named `Shape` with an abstract method `area`. Create derived classes `Circle` and `Square` that implement the `area` method. Create objects of the derived classes and call the `area` method.\n",
    "\n",
    "### Assignment 12: Operator Overloading\n",
    "\n",
    "Create a class named `Vector` with attributes `x` and `y`. Overload the `+` operator to add two `Vector` objects. Create objects of the class and test the operator overloading.\n",
    "\n",
    "### Assignment 13: Class with Custom Exception\n",
    "\n",
    "Create a custom exception named `InsufficientBalanceError`. In the `BankAccount` class, raise this exception when a withdrawal amount is greater than the balance. Handle the exception and print an appropriate message.\n",
    "\n",
    "### Assignment 14: Class with Context Manager\n",
    "\n",
    "Create a class named `FileManager` that implements the context manager protocol to open and close a file. Use this class to read the contents of a file.\n",
    "\n",
    "### Assignment 15: Chaining Methods\n",
    "\n",
    "Create a class named `Calculator` with methods to add, subtract, multiply, and divide. Each method should return the object itself to allow method chaining. Create an object and chain multiple method calls."
   ]
  },
  {
   "cell_type": "code",
   "execution_count": null,
   "metadata": {},
   "outputs": [
    {
     "name": "stdout",
     "output_type": "stream",
     "text": [
      "<__main__.car object at 0x00000233DA56F770>\n",
      "Toyota V4 1979\n"
     ]
    }
   ],
   "source": [
    "### Create a class named `Car` with attributes `make`, `model`, and `year`. Create an object of the class and print its attributes.\n",
    "\n",
    "class car:\n",
    "    \n",
    "    def __init__(self,make,model,year):\n",
    "        self.make = make\n",
    "        self.model = model\n",
    "        self.year = year\n",
    "    \n",
    "    \n",
    "    \n",
    "    car = car(\"Toyota\",\"V4\",1979)\n",
    "    print(car)\n",
    "    print(car.make,car.model,car.year)"
   ]
  },
  {
   "cell_type": "code",
   "execution_count": 11,
   "id": "d4b5b230",
   "metadata": {},
   "outputs": [
    {
     "name": "stdout",
     "output_type": "stream",
     "text": [
      "<__main__.car object at 0x00000233DA6B8440>\n",
      "Toyota V4 1979\n",
      "Engin Start\n"
     ]
    }
   ],
   "source": [
    "### Add a method named `start_engine` to the `Car` class that prints a message \n",
    "### when the engine starts. Create an object of the class and call the method.\n",
    "class car:\n",
    "    def __init__(self, make, model, year):\n",
    "        self.make = make\n",
    "        self.model = model\n",
    "        self.year = year\n",
    "\n",
    "    def start_engin(self):\n",
    "        print(\"Engin Start\")\n",
    "\n",
    "car = car(\"Toyota\",\"V4\",1979)\n",
    "print(car)\n",
    "print(car.make,car.model,car.year)\n",
    "\n",
    "car.start_engin()"
   ]
  },
  {
   "cell_type": "code",
   "execution_count": 13,
   "id": "e0fdd8b7",
   "metadata": {},
   "outputs": [
    {
     "name": "stdout",
     "output_type": "stream",
     "text": [
      "Anuja 23\n"
     ]
    }
   ],
   "source": [
    "### Create a class named `Student` with attributes `name` and `age`. Use a constructor to initialize these attributes. \n",
    "# Create an object of the class and print its attributes.\n",
    "\n",
    "class student:\n",
    "    def __init__(self,name,age):\n",
    "        self.name =name\n",
    "        self.age =age\n",
    "\n",
    "student1=student(\"Anuja\",23)\n",
    "print(student1.name,student1.age)\n"
   ]
  },
  {
   "cell_type": "code",
   "execution_count": 21,
   "id": "c88f8647",
   "metadata": {},
   "outputs": [
    {
     "name": "stdout",
     "output_type": "stream",
     "text": [
      "500 is deposited. New Balance is 5500\n",
      "300 is withdrawn. New Balance is 5200\n"
     ]
    },
    {
     "data": {
      "text/plain": [
       "5200"
      ]
     },
     "execution_count": 21,
     "metadata": {},
     "output_type": "execute_result"
    }
   ],
   "source": [
    "###Create a class named `BankAccount` with private attributes `account_number` and `balance`. \n",
    "# Add methods to deposit and withdraw money, and to check the balance. \n",
    "# Create an object of the class and perform some operations.\n",
    "\n",
    "class BankAccount:\n",
    "    def __init__(self,account_number,balance):\n",
    "\n",
    "        self.__account_number =account_number\n",
    "        self.__balance=balance\n",
    "\n",
    "    def deposite(self,amount):\n",
    "        self.__balance += amount\n",
    "        print(f\"{amount} is deposited. New Balance is {self.__balance}\")\n",
    "\n",
    "    def withdraw(self,amount):\n",
    "        if amount > self.__balance:\n",
    "            print(\"Insufficient Baalance\")\n",
    "        else:\n",
    "            self.__balance-=amount\n",
    "            print(f\"{amount} is withdrawn. New Balance is {self.__balance}\")\n",
    "\n",
    "    def check_balance(self):\n",
    "        return self.__balance\n",
    "    \n",
    "bank_account =BankAccount(1234543,5000)\n",
    "bank_account.deposite(500)\n",
    "bank_account.withdraw(300)\n",
    "bank_account.check_balance()\n",
    "    \n",
    "        "
   ]
  },
  {
   "cell_type": "code",
   "execution_count": null,
   "id": "95389ffd",
   "metadata": {},
   "outputs": [],
   "source": []
  },
  {
   "cell_type": "code",
   "execution_count": null,
   "id": "a92c5c2e",
   "metadata": {},
   "outputs": [],
   "source": []
  },
  {
   "cell_type": "code",
   "execution_count": null,
   "id": "30d2e543",
   "metadata": {},
   "outputs": [],
   "source": []
  },
  {
   "cell_type": "code",
   "execution_count": null,
   "id": "88221f8b",
   "metadata": {},
   "outputs": [],
   "source": []
  },
  {
   "cell_type": "code",
   "execution_count": null,
   "id": "8789fc83",
   "metadata": {},
   "outputs": [],
   "source": []
  }
 ],
 "metadata": {
  "kernelspec": {
   "display_name": "Python 3",
   "language": "python",
   "name": "python3"
  },
  "language_info": {
   "codemirror_mode": {
    "name": "ipython",
    "version": 3
   },
   "file_extension": ".py",
   "mimetype": "text/x-python",
   "name": "python",
   "nbconvert_exporter": "python",
   "pygments_lexer": "ipython3",
   "version": "3.12.0"
  }
 },
 "nbformat": 4,
 "nbformat_minor": 5
}
