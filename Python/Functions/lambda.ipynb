{
 "cells": [
  {
   "cell_type": "code",
   "execution_count": 1,
   "id": "cf844ca6",
   "metadata": {},
   "outputs": [
    {
     "name": "stdout",
     "output_type": "stream",
     "text": [
      "5\n"
     ]
    }
   ],
   "source": [
    "### Lambda function\n",
    "\n",
    "# It is a anonymous function that can take any number of arguments but can only have one expression.\n",
    "\n",
    "add =lambda a,b: a + b\n",
    "print(add(2,3)) # 5\n"
   ]
  },
  {
   "cell_type": "code",
   "execution_count": 8,
   "id": "811024fb",
   "metadata": {},
   "outputs": [
    {
     "name": "stdout",
     "output_type": "stream",
     "text": [
      "[1, 4, 9, 16, 25]\n"
     ]
    }
   ],
   "source": [
    "### Map function # It is used to apply a function to all the items in an iterable (list, tuple, etc.) and return a map object (which is an iterator).\n",
    "\n",
    "\n",
    "list1 = [1, 2, 3, 4, 5]\n",
    "\n",
    "square=map(lambda x:x*x, list1) \n",
    "print(list(square)) # [2, 4, 6, 8, 10]\n"
   ]
  },
  {
   "cell_type": "code",
   "execution_count": 10,
   "id": "f438e952",
   "metadata": {},
   "outputs": [
    {
     "name": "stdout",
     "output_type": "stream",
     "text": [
      "[15, 18, 21, 24]\n"
     ]
    }
   ],
   "source": [
    "list1 = [1,2,3,4]\n",
    "list2 = [5,6,7,8]\n",
    "list3 = [9,10,11,12]\n",
    "\n",
    "sum_list=list(map(lambda x,y,z :x+y+z, list1, list2, list3))\n",
    "print(sum_list) # [15, 18, 21, 24]"
   ]
  },
  {
   "cell_type": "code",
   "execution_count": 13,
   "id": "ada202e9",
   "metadata": {},
   "outputs": [
    {
     "name": "stdout",
     "output_type": "stream",
     "text": [
      "['John (30)', 'Jane (25)']\n"
     ]
    }
   ],
   "source": [
    "### map function with dictionary\n",
    "\n",
    "def get_name(person):\n",
    "    return f\"{person['name']} ({person['age']})\"\n",
    "\n",
    "people = [\n",
    "    {'name': 'John', 'age': 30},\n",
    "    {'name': 'Jane', 'age': 25}\n",
    "]\n",
    "\n",
    "name = list(map(get_name, people))\n",
    "print(name) # ['John', 'Jane']"
   ]
  },
  {
   "cell_type": "code",
   "execution_count": 15,
   "id": "d801e47d",
   "metadata": {},
   "outputs": [
    {
     "name": "stdout",
     "output_type": "stream",
     "text": [
      "[4, 6, 8, 6, 12, 0]\n"
     ]
    }
   ],
   "source": [
    "### Filter function \n",
    "# It is used to filter the elements of an iterable (list, tuple, etc.) \n",
    "# based on a function that returns True or False. \n",
    "# It returns a filter object (which is an iterator).\n",
    "\n",
    "def is_even(num):\n",
    "    return num % 2 == 0\n",
    "\n",
    "list1=[1, 4, 6, 8, 9, 55, 43, 6, 12, 0, 7]\n",
    "\n",
    "even_numbers = list(filter(is_even, list1))\n",
    "print(even_numbers) # [4, 6, 8, 0, 12]"
   ]
  },
  {
   "cell_type": "code",
   "execution_count": null,
   "id": "b43724c0",
   "metadata": {},
   "outputs": [
    {
     "name": "stdout",
     "output_type": "stream",
     "text": [
      "[6, 7, 8, 9, 10]\n"
     ]
    }
   ],
   "source": [
    "### Filter function to find the number is greater than 5\n",
    "list1 = [1, 2, 3, 4, 5, 6, 7, 8, 9, 10]\n",
    "\n",
    "greater_than_5 = list(filter(lambda x: x > 5, list1))\n",
    "print(greater_than_5) # [6, 7, 8, 9, 10]\n",
    "\n"
   ]
  },
  {
   "cell_type": "code",
   "execution_count": 19,
   "id": "e16a0cae",
   "metadata": {},
   "outputs": [
    {
     "name": "stdout",
     "output_type": "stream",
     "text": [
      "[34, 332]\n"
     ]
    }
   ],
   "source": [
    "even_numbers = [12,34,332,43,21,345,43,11]\n",
    "\n",
    "## Greater than 12 and number must be even\n",
    "\n",
    "even_num=list(filter(lambda x: x> 12 and x%2==0,even_numbers))\n",
    "print(even_num)"
   ]
  },
  {
   "cell_type": "code",
   "execution_count": 23,
   "id": "2c5d63d3",
   "metadata": {},
   "outputs": [
    {
     "name": "stdout",
     "output_type": "stream",
     "text": [
      "[{'name': 'Arjun', 'age': 26}, {'name': 'Abhi', 'age': 29}]\n"
     ]
    }
   ],
   "source": [
    "## Apply filter is age is greater than 25 in dictionary.\n",
    "\n",
    "people = [\n",
    "    {'name':'Arjit','age':22},\n",
    "    {'name':'Arjun','age':26},\n",
    "    {'name':'Abhi','age':29},\n",
    "]\n",
    "\n",
    "def grater_than_25(people):\n",
    "    return people['age']> 25\n",
    "    \n",
    "person=list(filter(grater_than_25,people))\n",
    "\n",
    "print(person)"
   ]
  },
  {
   "cell_type": "code",
   "execution_count": null,
   "id": "0de7b7a1",
   "metadata": {},
   "outputs": [],
   "source": []
  },
  {
   "cell_type": "code",
   "execution_count": null,
   "id": "8f4270c1",
   "metadata": {},
   "outputs": [],
   "source": []
  },
  {
   "cell_type": "code",
   "execution_count": null,
   "id": "a4e9d331",
   "metadata": {},
   "outputs": [],
   "source": []
  },
  {
   "cell_type": "code",
   "execution_count": null,
   "id": "dedb182e",
   "metadata": {},
   "outputs": [],
   "source": []
  },
  {
   "cell_type": "code",
   "execution_count": null,
   "id": "55e89d3a",
   "metadata": {},
   "outputs": [],
   "source": []
  }
 ],
 "metadata": {
  "kernelspec": {
   "display_name": "Python 3",
   "language": "python",
   "name": "python3"
  },
  "language_info": {
   "codemirror_mode": {
    "name": "ipython",
    "version": 3
   },
   "file_extension": ".py",
   "mimetype": "text/x-python",
   "name": "python",
   "nbconvert_exporter": "python",
   "pygments_lexer": "ipython3",
   "version": "3.12.0"
  }
 },
 "nbformat": 4,
 "nbformat_minor": 5
}
