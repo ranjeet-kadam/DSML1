{
 "cells": [
  {
   "cell_type": "code",
   "execution_count": 2,
   "id": "97ff7a67",
   "metadata": {},
   "outputs": [
    {
     "name": "stdout",
     "output_type": "stream",
     "text": [
      "The number 21 is Odd.\n"
     ]
    }
   ],
   "source": [
    "### Function in Python\n",
    "\n",
    "# Function is a block of code that only runs when it is called.\n",
    "\n",
    "def even_odd(num):\n",
    "    if num % 2 == 0:\n",
    "        return \"Even\"\n",
    "    else:\n",
    "        return \"Odd\"\n",
    "\n",
    "number = int(input(\"Enter a number: \"))\n",
    "result = even_odd(number)\n",
    "print(f\"The number {number} is {result}.\")"
   ]
  },
  {
   "cell_type": "code",
   "execution_count": 3,
   "id": "3b95382f",
   "metadata": {},
   "outputs": [
    {
     "name": "stdout",
     "output_type": "stream",
     "text": [
      "The sum is: 8\n"
     ]
    }
   ],
   "source": [
    "### Function with Parameters\n",
    "\n",
    "def add(a, b):\n",
    "    return a + b\n",
    "\n",
    "result = add(5, 3)\n",
    "print(f\"The sum is: {result}\")"
   ]
  },
  {
   "cell_type": "code",
   "execution_count": null,
   "id": "19eca0fb",
   "metadata": {},
   "outputs": [
    {
     "name": "stdout",
     "output_type": "stream",
     "text": [
      "Hello Guest!\n"
     ]
    }
   ],
   "source": [
    "### Default Parameters\n",
    "\n",
    "def greet (name = \"Guest\"):\n",
    "    print(f\"Hello {name}!\")\n",
    "\n",
    "greet()"
   ]
  },
  {
   "cell_type": "code",
   "execution_count": 9,
   "id": "cc933734",
   "metadata": {},
   "outputs": [
    {
     "name": "stdout",
     "output_type": "stream",
     "text": [
      "1\n",
      "2\n",
      "4\n",
      "5\n",
      "Harish\n",
      "6.7\n",
      "True\n"
     ]
    }
   ],
   "source": [
    "### Postional arguments\n",
    "\n",
    "def print_numbers(*args):\n",
    "    for num in args:\n",
    "        print(num)\n",
    "\n",
    "print_numbers(1,2,4,5,\"Harish\", 6.7, True)"
   ]
  },
  {
   "cell_type": "code",
   "execution_count": 15,
   "id": "f588dc76",
   "metadata": {},
   "outputs": [
    {
     "name": "stdout",
     "output_type": "stream",
     "text": [
      "name: Harish\n",
      "age: 25\n",
      "city: Hyderabad\n",
      "country: India\n"
     ]
    }
   ],
   "source": [
    "### Keyword arguments\n",
    "\n",
    "def print_Details(**kwargs):\n",
    "    for key, values in kwargs.items():\n",
    "        print(f\"{key}: {values}\")\n",
    "    \n",
    "print_Details(name= \"Harish\", age='25', city =\"Hyderabad\", country = \"India\")"
   ]
  },
  {
   "cell_type": "code",
   "execution_count": null,
   "id": "7af8d0c1",
   "metadata": {},
   "outputs": [
    {
     "data": {
      "text/plain": [
       "(0.0, 32)"
      ]
     },
     "execution_count": 20,
     "metadata": {},
     "output_type": "execute_result"
    }
   ],
   "source": [
    "## Temperature Conversion\n",
    "\n",
    "def conver_to_fal(celcius,temp):\n",
    "    fal = (celcius * 9/5)+32\n",
    "    return fal,temp\n",
    "\n",
    "def conver_to_cel(fahrenheit,temp):\n",
    "    celcius = (fahrenheit - 32) * 5/9\n",
    "    return celcius,temp\n",
    "\n",
    "conver_to_fal(32,32)\n",
    "conver_to_cel(32,32)\n"
   ]
  },
  {
   "cell_type": "code",
   "execution_count": null,
   "id": "41015a8a",
   "metadata": {},
   "outputs": [
    {
     "name": "stdout",
     "output_type": "stream",
     "text": [
      "Total cost of items in the cart: $7.00\n"
     ]
    }
   ],
   "source": [
    "### Total Cost of Items in a Shopping Cart\n",
    "# Define function\n",
    "def calculate_total_cost(cart):\n",
    "    total_cost =0\n",
    "    for item in cart:\n",
    "        total_cost+= item[\"price\"] * item[\"quantity\"]\n",
    "    return total_cost\n",
    "\n",
    "# Cart with items\n",
    "cart =[{\n",
    "    \"item\": \"apple\",\n",
    "    \"price\": 1.00,\n",
    "    \"quantity\": 3\n",
    "}, {\n",
    "    \"item\": \"banana\",\n",
    "    \"price\": 0.50,\n",
    "    \"quantity\": 5\n",
    "}, {\n",
    "    \"item\": \"orange\",\n",
    "    \"price\": 0.75,\n",
    "    \"quantity\": 2\n",
    "}]\n",
    "\n",
    "# Call the function and print the total cost\n",
    "total_cost = calculate_total_cost(cart)\n",
    "print(f\"Total cost of items in the cart: ${total_cost:.2f}\")"
   ]
  },
  {
   "cell_type": "code",
   "execution_count": 23,
   "id": "190d1b8e",
   "metadata": {},
   "outputs": [
    {
     "name": "stdout",
     "output_type": "stream",
     "text": [
      "Is the word a palindrome? True\n",
      "False\n"
     ]
    }
   ],
   "source": [
    "## Is a palindrome?\n",
    "\n",
    "def is_palindrome(s):\n",
    "    s=s.lower().replace(\" \",\"\")\n",
    "    return s == s[::-1]\n",
    "\n",
    "# Test the function\n",
    "word = is_palindrome('A man a plan a canal Panama')\n",
    "print(f\"Is the word a palindrome? {word}\")\n",
    "print(is_palindrome(\"hello\")) # False"
   ]
  },
  {
   "cell_type": "code",
   "execution_count": 24,
   "id": "d7e3c8b4",
   "metadata": {},
   "outputs": [
    {
     "name": "stdout",
     "output_type": "stream",
     "text": [
      "Factorial of 5 is: 120\n"
     ]
    }
   ],
   "source": [
    "### Factorial of a number\n",
    "\n",
    "def factorial(n):\n",
    "    if n ==0:\n",
    "        return 1\n",
    "    else:\n",
    "        return n * factorial(n-1)\n",
    "    \n",
    "factorial_of_5 = factorial(5)\n",
    "print(f\"Factorial of 5 is: {factorial_of_5}\")"
   ]
  },
  {
   "cell_type": "code",
   "execution_count": null,
   "id": "c8bc2977",
   "metadata": {},
   "outputs": [
    {
     "name": "stdout",
     "output_type": "stream",
     "text": [
      "7\n"
     ]
    }
   ],
   "source": [
    "def calculate_lift_rounds(n, capacity):\n",
    "    \"\"\"\n",
    "    Function to calculate the number of rounds the lift needs to cover.\n",
    "    \n",
    "    Parameters:\n",
    "    n (int): Total number of people.\n",
    "    capacity (int): Maximum number of people the lift can carry in one round.\n",
    "    \n",
    "    Returns:\n",
    "    int: The number of rounds required to transport all people to the top floor.\n",
    "    \"\"\"\n",
    "    if capacity ==0:\n",
    "        return \"capacity must be greater than 0\"\n",
    "        \n",
    "    # Rounding up the trips\n",
    "    trips = n // capacity\n",
    "    if n % trips != 0:\n",
    "        trips +=1\n",
    "    return trips\n",
    "    \n",
    "no_of_trips = calculate_lift_rounds(27,4)\n",
    "print(no_of_trips)\n"
   ]
  },
  {
   "cell_type": "code",
   "execution_count": null,
   "id": "00f06d72",
   "metadata": {},
   "outputs": [],
   "source": []
  }
 ],
 "metadata": {
  "kernelspec": {
   "display_name": "Python 3",
   "language": "python",
   "name": "python3"
  },
  "language_info": {
   "codemirror_mode": {
    "name": "ipython",
    "version": 3
   },
   "file_extension": ".py",
   "mimetype": "text/x-python",
   "name": "python",
   "nbconvert_exporter": "python",
   "pygments_lexer": "ipython3",
   "version": "3.12.0"
  }
 },
 "nbformat": 4,
 "nbformat_minor": 5
}
