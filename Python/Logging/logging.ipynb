{
 "cells": [
  {
   "cell_type": "code",
   "execution_count": 1,
   "id": "e42221f0",
   "metadata": {},
   "outputs": [],
   "source": [
    "import logging"
   ]
  },
  {
   "cell_type": "code",
   "execution_count": 2,
   "id": "119c3026",
   "metadata": {},
   "outputs": [
    {
     "name": "stderr",
     "output_type": "stream",
     "text": [
      "DEBUG:root:This is debug msg\n",
      "INFO:root:All the information of the log are below\n",
      "WARNING:root:This is the warning.\n",
      "ERROR:root:The application is running down\n",
      "CRITICAL:root:Some functionality of the application isn't working.\n"
     ]
    }
   ],
   "source": [
    "### Config. the basic logging setting\n",
    "\n",
    "logging.basicConfig(level=logging.DEBUG)\n",
    "logging.debug(\"This is debug msg\")\n",
    "logging.info(\"All the information of the log are below\")\n",
    "logging.warning(\"This is the warning.\")\n",
    "logging.error(\"The application is running down\")\n",
    "logging.critical(\"Some functionality of the application isn't working.\")"
   ]
  },
  {
   "cell_type": "code",
   "execution_count": 1,
   "id": "1864e3b0",
   "metadata": {},
   "outputs": [],
   "source": [
    "### Custom Format for logging\n",
    "import logging\n",
    "\n",
    "logging.basicConfig(\n",
    "    filename='app.log',\n",
    "    filemode='w',\n",
    "    level=logging.DEBUG,\n",
    "    format='%(asctime)s-%(name)s-%(levelname)s-%(message)s',\n",
    "    datefmt='%Y-%m-%d %H:%M:%S'\n",
    ")\n",
    "\n",
    "logging.debug(\"This is debug msg\")\n",
    "logging.info(\"All the information of the log are below\")\n",
    "logging.warning(\"This is the warning.\")\n",
    "logging.error(\"The application is running down\")\n",
    "logging.critical(\"Some functionality of the application isn't working.\")"
   ]
  },
  {
   "cell_type": "code",
   "execution_count": null,
   "id": "b54bbede",
   "metadata": {},
   "outputs": [],
   "source": []
  },
  {
   "cell_type": "code",
   "execution_count": null,
   "id": "73656768",
   "metadata": {},
   "outputs": [],
   "source": []
  },
  {
   "cell_type": "code",
   "execution_count": null,
   "id": "e1e4158d",
   "metadata": {},
   "outputs": [],
   "source": []
  }
 ],
 "metadata": {
  "kernelspec": {
   "display_name": "Python 3",
   "language": "python",
   "name": "python3"
  },
  "language_info": {
   "codemirror_mode": {
    "name": "ipython",
    "version": 3
   },
   "file_extension": ".py",
   "mimetype": "text/x-python",
   "name": "python",
   "nbconvert_exporter": "python",
   "pygments_lexer": "ipython3",
   "version": "3.12.0"
  }
 },
 "nbformat": 4,
 "nbformat_minor": 5
}
