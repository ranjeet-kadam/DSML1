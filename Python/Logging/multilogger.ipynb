{
 "cells": [
  {
   "cell_type": "code",
   "execution_count": 1,
   "id": "d6416588",
   "metadata": {},
   "outputs": [],
   "source": [
    "import logging"
   ]
  },
  {
   "cell_type": "code",
   "execution_count": 2,
   "id": "f0ac9f1c",
   "metadata": {},
   "outputs": [],
   "source": [
    "## Create a 1 logger\n",
    "\n",
    "logger1 = logging.getLogger('Module 1')\n",
    "logger1.setLevel(logging.DEBUG)\n",
    "\n",
    "# Module 2\n",
    "\n",
    "logger2 = logging.getLogger('Module 2')\n",
    "logger2.setLevel(logging.WARNING)\n",
    "\n",
    "## Basic Config\n",
    "\n",
    "logging.basicConfig(\n",
    "    level= logging.DEBUG,\n",
    "    format='%(asctime)s-%(name)s-%(levelname)s-%(message)s',\n",
    "    datefmt='%Y-%m-%d %H:%M:%S'\n",
    ")"
   ]
  },
  {
   "cell_type": "code",
   "execution_count": 3,
   "id": "9806d2c6",
   "metadata": {},
   "outputs": [
    {
     "name": "stderr",
     "output_type": "stream",
     "text": [
      "2025-05-08 09:25:13-Module 1-DEBUG-This is the debug message from Module 1\n",
      "2025-05-08 09:25:13-Module 2-WARNING-This is the warning from Module 2\n",
      "2025-05-08 09:25:13-Module 2-ERROR-This is the error\n"
     ]
    }
   ],
   "source": [
    "### Logger msg with different modules\n",
    "\n",
    "logger1.debug(\"This is the debug message from Module 1\")\n",
    "logger2.warning(\"This is the warning from Module 2\")\n",
    "logger2.error(\"This is the error\")"
   ]
  },
  {
   "cell_type": "code",
   "execution_count": null,
   "id": "f9032639",
   "metadata": {},
   "outputs": [],
   "source": []
  }
 ],
 "metadata": {
  "kernelspec": {
   "display_name": "Python 3",
   "language": "python",
   "name": "python3"
  },
  "language_info": {
   "codemirror_mode": {
    "name": "ipython",
    "version": 3
   },
   "file_extension": ".py",
   "mimetype": "text/x-python",
   "name": "python",
   "nbconvert_exporter": "python",
   "pygments_lexer": "ipython3",
   "version": "3.12.0"
  }
 },
 "nbformat": 4,
 "nbformat_minor": 5
}
