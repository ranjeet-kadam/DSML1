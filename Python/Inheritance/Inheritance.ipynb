{
 "cells": [
  {
   "cell_type": "code",
   "execution_count": 3,
   "id": "9cb05273",
   "metadata": {},
   "outputs": [
    {
     "name": "stdout",
     "output_type": "stream",
     "text": [
      "The name of this dog is Angel and the colour is Raymound Brown and mostly this dog is used as a pet\n"
     ]
    }
   ],
   "source": [
    "### Inheritance\n",
    "\n",
    "class animal:\n",
    "\n",
    "    def __init__(self,name, colour,ispet):\n",
    "        self.name = name\n",
    "        self.colour = colour\n",
    "        self.ispet = ispet\n",
    "\n",
    "    def dog(self):\n",
    "        print(f\"The name of this dog is {self.name} and the colour is {self.colour} and mostly this dog is used as a pet\")\n",
    "\n",
    "\n",
    "animal1 = animal(\"Angel\",\"Raymound Brown\",\"Yes\")\n",
    "animal1.dog()"
   ]
  },
  {
   "cell_type": "code",
   "execution_count": 7,
   "id": "b6d4206e",
   "metadata": {},
   "outputs": [],
   "source": [
    "class bird(animal):\n",
    "\n",
    "    def __init__(self, name, colour, ispet,is_flying):\n",
    "        super().__init__(name, colour, ispet)\n",
    "        self.is_flying = is_flying\n",
    "\n",
    "    def Is_flying(self):\n",
    "        print(f\"The birds are Flying:{self.is_flying}\")\n",
    "\n",
    "    \n",
    "        \n"
   ]
  },
  {
   "cell_type": "code",
   "execution_count": 11,
   "id": "f7b034bb",
   "metadata": {},
   "outputs": [
    {
     "name": "stdout",
     "output_type": "stream",
     "text": [
      "The birds are Flying:True\n"
     ]
    }
   ],
   "source": [
    "bird1 = bird(\"Parrot\",\"Green\",True,True)\n",
    "bird1.Is_flying()"
   ]
  },
  {
   "cell_type": "code",
   "execution_count": 4,
   "id": "3d33a8d6",
   "metadata": {},
   "outputs": [
    {
     "name": "stdout",
     "output_type": "stream",
     "text": [
      "Bunny says woof\n",
      "Owner : Ajay.\n"
     ]
    }
   ],
   "source": [
    "### Multiple Inheritance \n",
    "## Base Class:\n",
    "class animal:\n",
    "\n",
    "    def __init__(self,name):\n",
    "        self.name = name\n",
    "\n",
    "    def speak(self):\n",
    "        print(\"Subclass must implement this method.\")\n",
    "\n",
    "### Base class 2\n",
    "\n",
    "class pet():\n",
    "\n",
    "    def __init__(self,owner):\n",
    "        self.owner = owner\n",
    "\n",
    "## Derived Class\n",
    "\n",
    "class Dog(animal,pet):\n",
    "\n",
    "    def __init__(self, name,owner):\n",
    "        animal.__init__(self,name)\n",
    "        pet.__init__(self,owner)\n",
    "\n",
    "    def speak(self):\n",
    "        return f\"{self.name} says woof\"\n",
    "    \n",
    "## Create an object\n",
    "\n",
    "dog = Dog(\"Bunny\",\"Ajay\")\n",
    "print(dog.speak())\n",
    "print(f\"Owner : {dog.owner}.\")\n"
   ]
  },
  {
   "cell_type": "code",
   "execution_count": null,
   "id": "6fa1cc14",
   "metadata": {},
   "outputs": [],
   "source": []
  },
  {
   "cell_type": "code",
   "execution_count": null,
   "id": "d005923b",
   "metadata": {},
   "outputs": [],
   "source": []
  },
  {
   "cell_type": "code",
   "execution_count": null,
   "id": "32ca573c",
   "metadata": {},
   "outputs": [],
   "source": []
  },
  {
   "cell_type": "code",
   "execution_count": null,
   "id": "e7557ec9",
   "metadata": {},
   "outputs": [],
   "source": []
  },
  {
   "cell_type": "code",
   "execution_count": null,
   "id": "95d08545",
   "metadata": {},
   "outputs": [],
   "source": []
  }
 ],
 "metadata": {
  "kernelspec": {
   "display_name": "Python 3",
   "language": "python",
   "name": "python3"
  },
  "language_info": {
   "codemirror_mode": {
    "name": "ipython",
    "version": 3
   },
   "file_extension": ".py",
   "mimetype": "text/x-python",
   "name": "python",
   "nbconvert_exporter": "python",
   "pygments_lexer": "ipython3",
   "version": "3.12.0"
  }
 },
 "nbformat": 4,
 "nbformat_minor": 5
}
