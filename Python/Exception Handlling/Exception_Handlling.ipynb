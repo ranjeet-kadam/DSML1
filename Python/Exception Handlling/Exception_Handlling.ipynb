{
 "cells": [
  {
   "cell_type": "code",
   "execution_count": null,
   "id": "81c6052e",
   "metadata": {},
   "outputs": [],
   "source": []
  },
  {
   "cell_type": "code",
   "execution_count": 1,
   "id": "ab4bb003",
   "metadata": {},
   "outputs": [
    {
     "name": "stdout",
     "output_type": "stream",
     "text": [
      "b is not define\n"
     ]
    }
   ],
   "source": [
    "try:\n",
    "    a=b\n",
    "\n",
    "except:\n",
    "    print(\"b is not define\")"
   ]
  },
  {
   "cell_type": "code",
   "execution_count": 2,
   "id": "c95b61e9",
   "metadata": {},
   "outputs": [
    {
     "name": "stdout",
     "output_type": "stream",
     "text": [
      "The denominator should  be grater than 0\n"
     ]
    }
   ],
   "source": [
    "try:\n",
    "    result =1/0\n",
    "\n",
    "except:\n",
    "    print('The denominator should  be grater than 0')"
   ]
  },
  {
   "cell_type": "code",
   "execution_count": 9,
   "id": "f8ee4390",
   "metadata": {},
   "outputs": [
    {
     "name": "stdout",
     "output_type": "stream",
     "text": [
      "0.8333333333333334\n"
     ]
    }
   ],
   "source": [
    "try:\n",
    "    num =int(input(\"Enter the number:\"))\n",
    "    result = 10/num\n",
    "\n",
    "except ValueError:\n",
    "    print(\"This is not a valid number\")\n",
    "\n",
    "except ZeroDivisionError:\n",
    "    print(\"The number should be greater than 1\")\n",
    "\n",
    "except Exception as ex:\n",
    "    print(ex)\n",
    "\n",
    "else:\n",
    "    print(result)\n"
   ]
  },
  {
   "cell_type": "code",
   "execution_count": 13,
   "id": "32857196",
   "metadata": {},
   "outputs": [
    {
     "name": "stdout",
     "output_type": "stream",
     "text": [
      "The Result is 10.375\n",
      "The execution of block of code is completed\n"
     ]
    }
   ],
   "source": [
    "### try, except, else and finally\n",
    "\n",
    "try:\n",
    "    num=int(input(\"Enter a number: \"))\n",
    "    result = 332/num\n",
    "\n",
    "except ValueError:\n",
    "    print(\"This is not a valid number\")\n",
    "\n",
    "except ZeroDivisionError as zs:\n",
    "    print(zs)\n",
    "\n",
    "except Exception as ex:\n",
    "    print(ex)\n",
    "\n",
    "else:\n",
    "    print(f\"The Result is {result}\")\n",
    "\n",
    "finally:\n",
    "    print(\"The execution of block of code is completed\")"
   ]
  },
  {
   "cell_type": "code",
   "execution_count": null,
   "id": "4e6cc259",
   "metadata": {},
   "outputs": [],
   "source": []
  },
  {
   "cell_type": "code",
   "execution_count": null,
   "id": "85c4cb12",
   "metadata": {},
   "outputs": [],
   "source": []
  },
  {
   "cell_type": "code",
   "execution_count": null,
   "id": "50a4564a",
   "metadata": {},
   "outputs": [],
   "source": []
  }
 ],
 "metadata": {
  "kernelspec": {
   "display_name": "Python 3",
   "language": "python",
   "name": "python3"
  },
  "language_info": {
   "codemirror_mode": {
    "name": "ipython",
    "version": 3
   },
   "file_extension": ".py",
   "mimetype": "text/x-python",
   "name": "python",
   "nbconvert_exporter": "python",
   "pygments_lexer": "ipython3",
   "version": "3.12.0"
  }
 },
 "nbformat": 4,
 "nbformat_minor": 5
}
