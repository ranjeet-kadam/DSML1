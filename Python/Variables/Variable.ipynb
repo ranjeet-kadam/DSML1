{
 "cells": [
  {
   "cell_type": "markdown",
   "metadata": {},
   "source": [
    "### Variable in Python\n"
   ]
  },
  {
   "cell_type": "code",
   "execution_count": 1,
   "metadata": {},
   "outputs": [
    {
     "data": {
      "text/plain": [
       "200"
      ]
     },
     "execution_count": 1,
     "metadata": {},
     "output_type": "execute_result"
    }
   ],
   "source": [
    "a=200\n",
    "a"
   ]
  },
  {
   "cell_type": "code",
   "execution_count": 6,
   "metadata": {},
   "outputs": [
    {
     "name": "stdout",
     "output_type": "stream",
     "text": [
      "name: Ranjeet\n",
      "<class 'str'>\n"
     ]
    }
   ],
   "source": [
    "name= 'Ranjeet'\n",
    "age=26\n",
    "print('name:',name)\n",
    "print(type(name))"
   ]
  },
  {
   "cell_type": "markdown",
   "metadata": {},
   "source": []
  },
  {
   "cell_type": "code",
   "execution_count": 11,
   "metadata": {},
   "outputs": [
    {
     "name": "stdout",
     "output_type": "stream",
     "text": [
      "52.22\n",
      "<class 'int'>\n",
      "<class 'float'>\n",
      "<class 'float'>\n",
      "<class 'float'>\n"
     ]
    }
   ],
   "source": [
    "'''\n",
    "Type conversion in Python\n",
    "1. Implicit Type conversion\n",
    "\n",
    "'''\n",
    "\n",
    "a = 20\n",
    "b=32.22\n",
    "c =a+ b\n",
    "print(c)\n",
    "print(type(a))\n",
    "print(type(b))\n",
    "print(type(c))\n",
    "\n",
    "'''\n",
    "\n",
    "2. Explicit Type conversion\n",
    "\n",
    "'''\n",
    "\n",
    "int1 = 34\n",
    "b=(float(int1))\n",
    "print(type(b))\n"
   ]
  },
  {
   "cell_type": "code",
   "execution_count": 14,
   "metadata": {},
   "outputs": [
    {
     "name": "stdout",
     "output_type": "stream",
     "text": [
      "22 <class 'int'>\n"
     ]
    }
   ],
   "source": [
    "## Input \n",
    "\n",
    "Age = int(input('What is your age:'))\n",
    "print(Age,type(Age))"
   ]
  },
  {
   "cell_type": "code",
   "execution_count": 15,
   "metadata": {},
   "outputs": [
    {
     "name": "stdout",
     "output_type": "stream",
     "text": [
      "Sum: 67\n",
      "Difference: 23\n",
      "Quotient: 2.0454545454545454\n",
      "Product: 990\n"
     ]
    }
   ],
   "source": [
    "## Create a Calculator\n",
    "\n",
    "input1 = int(input('What is the 1st number:'))\n",
    "input2= int(input('What is the 1st number:'))\n",
    "\n",
    "sum = input1 + input2\n",
    "difference = input1-input2\n",
    "quotient = input1/input2\n",
    "product = input1*input2\n",
    "\n",
    "print('Sum:',sum)\n",
    "print('Difference:',difference)\n",
    "print('Quotient:',quotient)\n",
    "print('Product:',product)\n"
   ]
  },
  {
   "cell_type": "code",
   "execution_count": null,
   "metadata": {},
   "outputs": [],
   "source": []
  }
 ],
 "metadata": {
  "kernelspec": {
   "display_name": "Python 3",
   "language": "python",
   "name": "python3"
  },
  "language_info": {
   "codemirror_mode": {
    "name": "ipython",
    "version": 3
   },
   "file_extension": ".py",
   "mimetype": "text/x-python",
   "name": "python",
   "nbconvert_exporter": "python",
   "pygments_lexer": "ipython3",
   "version": "3.12.0"
  }
 },
 "nbformat": 4,
 "nbformat_minor": 2
}
