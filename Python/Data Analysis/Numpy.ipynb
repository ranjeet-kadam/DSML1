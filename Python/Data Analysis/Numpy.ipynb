{
 "cells": [
  {
   "cell_type": "code",
   "execution_count": 1,
   "id": "9237c848",
   "metadata": {},
   "outputs": [
    {
     "name": "stdout",
     "output_type": "stream",
     "text": [
      "Requirement already satisfied: numpy in d:\\krish_naik\\python\\venv\\lib\\site-packages (2.2.4)\n"
     ]
    }
   ],
   "source": [
    "### Data Analysis with Pythpn\n",
    "\n",
    "!pip install numpy\n"
   ]
  },
  {
   "cell_type": "code",
   "execution_count": 4,
   "id": "a3329ee4",
   "metadata": {},
   "outputs": [
    {
     "name": "stdout",
     "output_type": "stream",
     "text": [
      "[1 2 3 4 5]\n",
      "<class 'numpy.ndarray'>\n",
      "(5,)\n"
     ]
    }
   ],
   "source": [
    "## Creating ndarray \n",
    "import numpy as np\n",
    "\n",
    "arr1 = np.array([1,2,3,4,5])\n",
    "\n",
    "print(arr1)\n",
    "print(type(arr1))\n",
    "print(arr1.shape)\n"
   ]
  },
  {
   "cell_type": "code",
   "execution_count": null,
   "id": "bee2d936",
   "metadata": {},
   "outputs": [
    {
     "data": {
      "text/plain": [
       "array([[1, 2, 3, 4, 5]])"
      ]
     },
     "execution_count": 6,
     "metadata": {},
     "output_type": "execute_result"
    }
   ],
   "source": [
    "## Creaating a 2d array  --> Convert 1d array from 2d array by using reshape...\n",
    "\n",
    "arr2 = np.array([1,2,3,4,5])\n",
    "\n",
    "arr2.reshape(1,5)  # 1 row and 5 cols\n"
   ]
  },
  {
   "cell_type": "code",
   "execution_count": 8,
   "id": "c3720506",
   "metadata": {},
   "outputs": [
    {
     "data": {
      "text/plain": [
       "(2, 6)"
      ]
     },
     "execution_count": 8,
     "metadata": {},
     "output_type": "execute_result"
    }
   ],
   "source": [
    "# 2D array \n",
    "\n",
    "arr3 = np.array([[1,2,4,6,7,8],[2,4,5,7,8,9]])\n",
    "arr3.shape"
   ]
  },
  {
   "cell_type": "code",
   "execution_count": 9,
   "id": "4e383480",
   "metadata": {},
   "outputs": [
    {
     "data": {
      "text/plain": [
       "array([0, 1, 2, 3, 4, 5, 6, 7, 8, 9])"
      ]
     },
     "execution_count": 9,
     "metadata": {},
     "output_type": "execute_result"
    }
   ],
   "source": [
    "### Perform operations by using in- bulit function \n",
    "\n",
    "np.arange(10)"
   ]
  },
  {
   "cell_type": "code",
   "execution_count": null,
   "id": "655f5b6c",
   "metadata": {},
   "outputs": [
    {
     "data": {
      "text/plain": [
       "array([[1., 1., 1.],\n",
       "       [1., 1., 1.]])"
      ]
     },
     "execution_count": 17,
     "metadata": {},
     "output_type": "execute_result"
    }
   ],
   "source": [
    "# Creating array using default values\n",
    "\n",
    "np.ones((2,3))"
   ]
  },
  {
   "cell_type": "code",
   "execution_count": null,
   "id": "e2aa6e01",
   "metadata": {},
   "outputs": [
    {
     "data": {
      "text/plain": [
       "array([[0., 0., 0., 0.],\n",
       "       [0., 0., 0., 0.],\n",
       "       [0., 0., 0., 0.]])"
      ]
     },
     "execution_count": 18,
     "metadata": {},
     "output_type": "execute_result"
    }
   ],
   "source": [
    "# Creating array using default values\n",
    "\n",
    "np.zeros((3,4))"
   ]
  },
  {
   "cell_type": "code",
   "execution_count": 19,
   "id": "47242158",
   "metadata": {},
   "outputs": [
    {
     "data": {
      "text/plain": [
       "array([[1., 0., 0.],\n",
       "       [0., 1., 0.],\n",
       "       [0., 0., 1.]])"
      ]
     },
     "execution_count": 19,
     "metadata": {},
     "output_type": "execute_result"
    }
   ],
   "source": [
    "## Identity matrix\n",
    "\n",
    "np.eye(3)"
   ]
  },
  {
   "cell_type": "code",
   "execution_count": 26,
   "id": "9f36c4ac",
   "metadata": {},
   "outputs": [
    {
     "name": "stdout",
     "output_type": "stream",
     "text": [
      "Array :\n",
      "  [[1 2 3]\n",
      " [4 5 6]]\n",
      "Shape of Array is : (2, 3)\n",
      "Number of dimension in Array:  2\n",
      "The Size of the array is : 6\n",
      "Datatype is : int64\n",
      "Item Size in bytes : 8\n"
     ]
    }
   ],
   "source": [
    "ar1 = np.array([[1,2,3],[4,5,6]])\n",
    "\n",
    "print(\"Array :\\n \",ar1) # return arrary\n",
    "print(\"Shape of Array is :\",ar1.shape) # Return shape of array\n",
    "print(\"Number of dimension in Array: \",ar1.ndim)\n",
    "print(\"The Size of the array is :\", ar1.size)\n",
    "print(\"Datatype is :\", ar1.dtype)\n",
    "print(\"Item Size in bytes :\", ar1.itemsize)"
   ]
  },
  {
   "cell_type": "code",
   "execution_count": 31,
   "id": "186e1844",
   "metadata": {},
   "outputs": [
    {
     "name": "stdout",
     "output_type": "stream",
     "text": [
      "Addition of array is : [ 3  7 11 15 19]\n",
      "Substration of array is : [-1 -1 -1 -1 -1]\n",
      "Multiplication of array is : [ 2 12 30 56 90]\n",
      "Division of array is : [0.5        0.75       0.83333333 0.875      0.9       ]\n"
     ]
    }
   ],
   "source": [
    "# Vectorization operations\n",
    "\n",
    "Ar1 = np.array([1,3,5,7,9])\n",
    "Ar2 = np.array([2,4,6,8,10])\n",
    "\n",
    "# Addition \n",
    "print(\"Addition of array is :\", Ar1+Ar2)\n",
    "\n",
    "# Substration\n",
    "print(\"Substration of array is :\", Ar1-Ar2)\n",
    "\n",
    "# Multiplication\n",
    "print(\"Multiplication of array is :\", Ar1*Ar2)\n",
    "\n",
    "# Division\n",
    "print(\"Division of array is :\", Ar1/Ar2)\n"
   ]
  },
  {
   "cell_type": "code",
   "execution_count": 32,
   "id": "8864dcb2",
   "metadata": {},
   "outputs": [
    {
     "name": "stdout",
     "output_type": "stream",
     "text": [
      "[1.41421356 1.73205081 2.         2.23606798 2.44948974]\n",
      "[  7.3890561   20.08553692  54.59815003 148.4131591  403.42879349]\n",
      "[ 0.90929743  0.14112001 -0.7568025  -0.95892427 -0.2794155 ]\n",
      "[0.69314718 1.09861229 1.38629436 1.60943791 1.79175947]\n"
     ]
    }
   ],
   "source": [
    "### Universal Function \n",
    "\n",
    "arr = np.array([2,3,4,5,6])\n",
    "\n",
    "print(np.sqrt(arr)) # Square root\n",
    "\n",
    "print(np.exp(arr)) # Exponential \n",
    "\n",
    "print(np.sin(arr)) # Sin value\n",
    "\n",
    "print(np.log(arr)) # Log value"
   ]
  },
  {
   "cell_type": "code",
   "execution_count": 36,
   "id": "2b92d4de",
   "metadata": {},
   "outputs": [
    {
     "name": "stdout",
     "output_type": "stream",
     "text": [
      "Array :\n",
      " [[ 1  2  3  4  5]\n",
      " [ 2  4  6  8 10]\n",
      " [ 1  3  5  7  9]]\n"
     ]
    },
    {
     "data": {
      "text/plain": [
       "(3, 5)"
      ]
     },
     "execution_count": 36,
     "metadata": {},
     "output_type": "execute_result"
    }
   ],
   "source": [
    "### Array Slicing and Indexing\n",
    "\n",
    "arr1 = np.array([[1,2,3,4,5],[2,4,6,8,10],[1,3,5,7,9]])\n",
    "\n",
    "print(\"Array :\\n\",arr1)\n",
    "\n",
    "np.shape(arr1)"
   ]
  },
  {
   "cell_type": "code",
   "execution_count": null,
   "id": "ddd40d34",
   "metadata": {},
   "outputs": [
    {
     "data": {
      "text/plain": [
       "array([[ 8, 10],\n",
       "       [ 7,  9]])"
      ]
     },
     "execution_count": 41,
     "metadata": {},
     "output_type": "execute_result"
    }
   ],
   "source": [
    "#Return last elements in 2nd and 3rd row\n",
    "arr1[1:,3:]\n"
   ]
  },
  {
   "cell_type": "code",
   "execution_count": null,
   "id": "e91713b9",
   "metadata": {},
   "outputs": [
    {
     "data": {
      "text/plain": [
       "array([[ 1,  2,  3,  4,  5],\n",
       "       [ 2,  4,  6,  8, 10]])"
      ]
     },
     "execution_count": 42,
     "metadata": {},
     "output_type": "execute_result"
    }
   ],
   "source": [
    "# Return first 2 rows in array\n",
    "arr1[0:2]"
   ]
  },
  {
   "cell_type": "code",
   "execution_count": 43,
   "id": "4a8edb56",
   "metadata": {},
   "outputs": [
    {
     "data": {
      "text/plain": [
       "array([[ 3,  4,  5],\n",
       "       [ 6,  8, 10]])"
      ]
     },
     "execution_count": 43,
     "metadata": {},
     "output_type": "execute_result"
    }
   ],
   "source": [
    "arr1[0:2,2:]"
   ]
  },
  {
   "cell_type": "code",
   "execution_count": 44,
   "id": "2ce07215",
   "metadata": {},
   "outputs": [
    {
     "data": {
      "text/plain": [
       "array([[3, 4],\n",
       "       [6, 8],\n",
       "       [5, 7]])"
      ]
     },
     "execution_count": 44,
     "metadata": {},
     "output_type": "execute_result"
    }
   ],
   "source": [
    "arr1[0:3,2:4]"
   ]
  },
  {
   "cell_type": "code",
   "execution_count": 45,
   "id": "0058876c",
   "metadata": {},
   "outputs": [
    {
     "name": "stdout",
     "output_type": "stream",
     "text": [
      "[[100   2   3   4   5]\n",
      " [  2   4   6   8  10]\n",
      " [  1   3   5   7   9]]\n"
     ]
    }
   ],
   "source": [
    "### Modify array elements\n",
    "\n",
    "arr1[0][0] =100\n",
    "print(arr1)"
   ]
  },
  {
   "cell_type": "code",
   "execution_count": 51,
   "id": "4216a169",
   "metadata": {},
   "outputs": [
    {
     "name": "stdout",
     "output_type": "stream",
     "text": [
      "10\n",
      "4 1\n",
      "2.5\n",
      "3.25\n",
      "[-1.34164079 -0.4472136   0.4472136   1.34164079]\n"
     ]
    }
   ],
   "source": [
    "## Stastistical Concept --> Normalization\n",
    "## To have a mean is 0 and standard Deviation is 1\n",
    "\n",
    "a = np.array([1, 2, 3, 4])\n",
    "print(np.sum(a))        # 10\n",
    "mean = np.mean(a)      # 2.5)\n",
    "std_dev=np.std(a)     # Standard deviation\n",
    "print(np.max(a), np.min(a))\n",
    "print(np.median(a))\n",
    "print(np.percentile(a, 75))\n",
    "\n",
    "normalization = (a - mean)/std_dev\n",
    "\n",
    "print(normalization)"
   ]
  },
  {
   "cell_type": "code",
   "execution_count": 58,
   "id": "16bed8f4",
   "metadata": {},
   "outputs": [
    {
     "name": "stdout",
     "output_type": "stream",
     "text": [
      "Mean:  2.5\n",
      "Median:  2.5\n",
      "Standard Deviation:  1.118033988749895\n",
      "Variance:  1.25\n"
     ]
    }
   ],
   "source": [
    "data = np.array([1, 2, 3, 4])\n",
    "\n",
    "# Mean\n",
    "print(\"Mean: \",np.mean(data))\n",
    "\n",
    "#Median\n",
    "print(\"Median: \",np.median(data))\n",
    "\n",
    "# Standard Deviation\n",
    "print(\"Standard Deviation: \",np.std(data))\n",
    "\n",
    "# Variance \n",
    "print(\"Variance: \",np.var(data))"
   ]
  },
  {
   "cell_type": "code",
   "execution_count": 61,
   "id": "4cd19abb",
   "metadata": {},
   "outputs": [
    {
     "data": {
      "text/plain": [
       "array([6, 7, 8, 9])"
      ]
     },
     "execution_count": 61,
     "metadata": {},
     "output_type": "execute_result"
    }
   ],
   "source": [
    "#### Logical Operations\n",
    "\n",
    "data = np.arange(10)\n",
    "data[data>5]\n"
   ]
  },
  {
   "cell_type": "code",
   "execution_count": null,
   "id": "507f8c89",
   "metadata": {},
   "outputs": [],
   "source": []
  }
 ],
 "metadata": {
  "kernelspec": {
   "display_name": "Python 3",
   "language": "python",
   "name": "python3"
  },
  "language_info": {
   "codemirror_mode": {
    "name": "ipython",
    "version": 3
   },
   "file_extension": ".py",
   "mimetype": "text/x-python",
   "name": "python",
   "nbconvert_exporter": "python",
   "pygments_lexer": "ipython3",
   "version": "3.12.0"
  }
 },
 "nbformat": 4,
 "nbformat_minor": 5
}
