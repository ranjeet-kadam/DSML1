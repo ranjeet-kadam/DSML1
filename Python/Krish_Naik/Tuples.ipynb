### Contents of `packages/__init__.py`
# This file is intentionally left blank.

### Contents of `packages/math.py`
def add(a, b):
    return a + b

def subtract(a, b):
    return a - b

def multiply(a, b):
    return a * b

def divide(a, b):
    if b == 0:
        raise ValueError("Cannot divide by zero.")
    return a / b

### Contents of `Tuples.ipynb`
{
    "cells": [
        {
            "cell_type": "code",
            "metadata": {
                "id": "c4bac648",
                "language": "python"
            },
            "source": [
                "# Basic tuple operations",
                "tup1 = (1, 2, 3, 4, 5)",
                "tup2 = ('a', 'b', 'c')",
                "",
                "# Tuple methods and operations",
                "print(\"Length:\", len(tup1))",
                "print(\"Count of 2:\", tup1.count(2))",
                "print(\"Index of 3:\", tup1.index(3))",
                "print(\"Concatenation:\", tup1 + tup2)",
                "print(\"Slicing:\", tup1[1:4])",
                "",
                "# Tuple unpacking",
                "x, y, z = tup2",
                "print(\"Unpacked values:\", x, y, z)",
                "",
                "# Nested tuple",
                "nested_tup = ((1, 2), (3, 4))",
                "print(\"Nested tuple:\", nested_tup)",
                "",
                "# Tuple with single element",
                "single_tup = (1,)",
                "print(\"Single element tuple:\", single_tup)",
                "",
                "# Interview problem: Swap two numbers using tuple",
                "def swap_numbers(a, b):",
                "    a, b = b, a",
                "    return a, b",
                "",
                "# LeetCode Easy: Convert array to tuple and find sum",
                "def array_pair_sum(nums):",
                "    nums.sort()",
                "    return sum(nums[::2])",
                "",
                "# LeetCode Medium: Encode and decode strings using tuple",
                "def encode(strs):",
                "    return tuple(strs)",
                "",
                "def decode(encoded_tuple):",
                "    return list(encoded_tuple)",
                "",
                "# Test the functions",
                "print(\"\\nSwap numbers:\", swap_numbers(5, 10))",
                "print(\"Array pair sum:\", array_pair_sum([1,4,3,2]))",
                "print(\"Encode/Decode:\", decode(encode(['Hello', 'World'])))"
            ]
        },
        {
            "cell_type": "code",
            "metadata": {
                "id": "9f08882b",
                "language": "python"
            },
            "source": [
                "tup = (1,'ragini',2.5,True)",
                "print(tup)"
            ]
        },
        {
            "cell_type": "code",
            "metadata": {
                "id": "5b3b0fed",
                "language": "python"
            },
            "source": [
                "tup[1]",
                "print(tup[1:5])"
            ]
        },
        {
            "cell_type": "code",
            "metadata": {
                "id": "919d5c03",
                "language": "python"
            },
            "source": [
                "tup[1] = 'Ragini'",
                "print(tup[1])"
            ]
        },
        {
            "cell_type": "code",
            "metadata": {
                "id": "ce599320",
                "language": "python"
            },
            "source": [
                "### Convert tuple to list and modify",
                "lst = list(tup)",
                "print(lst)",
                "lst[1] = 'asha'",
                "print(lst)"
            ]
        },
        {
            "cell_type": "code",
            "metadata": {
                "id": "1ffb1b77",
                "language": "python"
            },
            "source": [
                "### Convert list to tuple",
                "tup = tuple(lst)",
                "print(tup)"
            ]
        },
        {
            "cell_type": "code",
            "metadata": {
                "id": "ddb4d81d",
                "language": "python"
            },
            "source": [
                "### Tuple Methods",
                "tup = (1,2,3,4,5,6,7,8,9,10,1,3,5,7,8,9,10)",
                "print(tup.count(1))  # Count occurrences of 1",
                "print(tup.index(3))  # Find index of first occurrence of 3"
            ]
        },
        {
            "cell_type": "code",
            "metadata": {
                "id": "7701316b",
                "language": "python"
            },
            "source": [
                "### Packing and Unpacking the tuple",
                "Pack_tup = 1,'Arjun',2.5,'Amit'",
                "print(Pack_tup)",
                "",
                "a,b,c,d = Pack_tup",
                "print(a)",
                "print(b)",
                "print(c)",
                "print(d)"
            ]
        },
        {
            "cell_type": "code",
            "metadata": {
                "id": "6a3e9c52",
                "language": "python"
            },
            "source": [
                "a= 1,2,3,4,5,6,7,8,9,10",
                "first, *middle, last = a",
                "print(first)  # First element",
                "print(middle)  # Middle elements",
                "print(last)  # Last element"
            ]
        },
        {
            "cell_type": "code",
            "metadata": {
                "id": "e91cc30c",
                "language": "python"
            },
            "source": [
                "### Neatest Tuple",
                "",
                "lst =[[1,2,3],[2,3,4],(4,'Abhi',5)]",
                "lst[1][1] = 'Amit'",
                "print(lst)"
            ]
        },
        {
            "cell_type": "code",
            "metadata": {
                "id": "7b4f6904",
                "language": "python"
            },
            "source": [
                "tup1 =((2,4,6),(1,3,5),(True,False))",
                "print(tup1[0][2])  # Accessing nested tuple element",
                "print(tup1[1][0])  # Accessing nested tuple element",
                "print(tup1[2][1])  # Accessing nested tuple element"
            ]
        },
        {
            "cell_type": "code",
            "metadata": {
                "id": "a77d5098",
                "language": "python"
            },
            "source": [
                "#### Accesing tuple elements using loop",
                "for i in (tup1):",
                "    for j in i:",
                "        print(j, end=' ')"
            ]
        },
        {
            "cell_type": "code",
            "metadata": {
                "id": "2007ce13",
                "language": "python"
            },
            "source": [
                ""
            ]
        }
    ]
}