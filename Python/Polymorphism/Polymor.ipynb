{
 "cells": [
  {
   "cell_type": "code",
   "execution_count": 8,
   "id": "5694e8e0",
   "metadata": {},
   "outputs": [
    {
     "name": "stdout",
     "output_type": "stream",
     "text": [
      "dog says woof..!\n",
      "Cat says meow..!\n"
     ]
    },
    {
     "data": {
      "text/plain": [
       "'dog says woof..!'"
      ]
     },
     "execution_count": 8,
     "metadata": {},
     "output_type": "execute_result"
    }
   ],
   "source": [
    "### Polymorphism\n",
    "\n",
    "### Polymorphism achieved via inheritance..\n",
    "class animal:\n",
    "    def speak(self):\n",
    "        return \"This is the main class method.\"\n",
    "    \n",
    "class dog(animal):\n",
    "    def speak(self):\n",
    "        return \"dog says woof..!\"\n",
    "    \n",
    "class cat(animal):\n",
    "    def speak(self):\n",
    "        return \"Cat says meow..!\"\n",
    "    \n",
    "## Function that demonstrate polymorphism...\n",
    "\n",
    "def animal_speak(animal):\n",
    "    return animal.speak()\n",
    "\n",
    "    \n",
    "dog1 = dog()\n",
    "cat1 = cat()\n",
    "\n",
    "print(dog1.speak())\n",
    "print(cat1.speak())\n",
    "animal_speak(dog1)\n",
    "    \n"
   ]
  },
  {
   "cell_type": "code",
   "execution_count": 10,
   "id": "b3b12874",
   "metadata": {},
   "outputs": [
    {
     "name": "stdout",
     "output_type": "stream",
     "text": [
      "The area is 45\n",
      "The area is 200.96\n"
     ]
    }
   ],
   "source": [
    "### Polymorphism with functions and methods.\n",
    "### Base Class :\n",
    "\n",
    "class shape():\n",
    "    def area():\n",
    "        return \"Every shape have an area of thier own.\"\n",
    "    \n",
    "### Derived class 1:\n",
    "\n",
    "class reactangle(shape):\n",
    "    def __init__(self,width,height):\n",
    "        self.width =width\n",
    "        self.height = height\n",
    "\n",
    "    def area(self):\n",
    "        return self.width * self.height\n",
    "    \n",
    "class circle(shape):\n",
    "\n",
    "    def __init__(self,radius):\n",
    "        self.radius = radius\n",
    "\n",
    "    def area(self):\n",
    "        return 3.14*self.radius*self.radius\n",
    "    \n",
    "\n",
    "## Function that demonstrate polymorphism...\n",
    "\n",
    "def print_area(shape):\n",
    "    print(f\"The area is {shape.area()}\")\n",
    "\n",
    "## Create an object \n",
    "\n",
    "reactangle1 = reactangle(5,9)\n",
    "circle = circle(8)\n",
    "print_area(reactangle1)\n",
    "print_area(circle)\n",
    "\n",
    "\n"
   ]
  },
  {
   "cell_type": "code",
   "execution_count": 12,
   "id": "d67afc07",
   "metadata": {},
   "outputs": [
    {
     "name": "stdout",
     "output_type": "stream",
     "text": [
      "Car engine started.\n",
      "Motorcycle engine started.\n"
     ]
    }
   ],
   "source": [
    "### Polymorphism with abstract base class.\n",
    "\n",
    "from abc import ABC, abstractmethod\n",
    "\n",
    "### Define Abstract method:\n",
    "\n",
    "class Vehicle(ABC):\n",
    "    @abstractmethod\n",
    "    def start_engine(self):\n",
    "        pass\n",
    "\n",
    "## Derived class 1 :\n",
    "class Car(Vehicle):\n",
    "    def start_engine(self):\n",
    "        return \"Car engine started.\"\n",
    "\n",
    "## Derived Class 2 :\n",
    "class Motorcycle(Vehicle):\n",
    "    def start_engine(self):\n",
    "        return \"Motorcycle engine started.\"\n",
    "    \n",
    "## Function with demonstrates polymorphism\n",
    "\n",
    "def start_vehicle(vehicle):\n",
    "    print(vehicle.start_engine())\n",
    "    \n",
    "## Define Object : \n",
    "\n",
    "car = Car()\n",
    "motorcycle = Motorcycle()\n",
    "\n",
    "start_vehicle(car)\n",
    "start_vehicle(motorcycle)\n",
    "\n",
    "\n"
   ]
  },
  {
   "cell_type": "code",
   "execution_count": null,
   "id": "13d4add7",
   "metadata": {},
   "outputs": [],
   "source": []
  }
 ],
 "metadata": {
  "kernelspec": {
   "display_name": "Python 3",
   "language": "python",
   "name": "python3"
  },
  "language_info": {
   "codemirror_mode": {
    "name": "ipython",
    "version": 3
   },
   "file_extension": ".py",
   "mimetype": "text/x-python",
   "name": "python",
   "nbconvert_exporter": "python",
   "pygments_lexer": "ipython3",
   "version": "3.12.0"
  }
 },
 "nbformat": 4,
 "nbformat_minor": 5
}
