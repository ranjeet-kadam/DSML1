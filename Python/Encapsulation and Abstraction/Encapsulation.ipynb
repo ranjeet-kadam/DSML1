{
 "cells": [
  {
   "cell_type": "code",
   "execution_count": 3,
   "id": "326af8bf",
   "metadata": {},
   "outputs": [
    {
     "name": "stdout",
     "output_type": "stream",
     "text": [
      "Arun\n"
     ]
    },
    {
     "data": {
      "text/plain": [
       "'Arun'"
      ]
     },
     "execution_count": 3,
     "metadata": {},
     "output_type": "execute_result"
    }
   ],
   "source": [
    "### Encapasulation in Python\n",
    "\n",
    "class person :\n",
    "\n",
    "    def __init__(self,name,age):\n",
    "        self.name = name    ## Public variable\n",
    "        self.age = age      ## Public variable \n",
    "\n",
    "def get_name(person):\n",
    "    return person.name\n",
    "\n",
    "person= person(\"Arun\", 32)\n",
    "print(person.name)\n",
    "get_name(person)"
   ]
  },
  {
   "cell_type": "code",
   "execution_count": 4,
   "id": "8d6b3727",
   "metadata": {},
   "outputs": [
    {
     "data": {
      "text/plain": [
       "['__class__',\n",
       " '__delattr__',\n",
       " '__dict__',\n",
       " '__dir__',\n",
       " '__doc__',\n",
       " '__eq__',\n",
       " '__format__',\n",
       " '__ge__',\n",
       " '__getattribute__',\n",
       " '__getstate__',\n",
       " '__gt__',\n",
       " '__hash__',\n",
       " '__init__',\n",
       " '__init_subclass__',\n",
       " '__le__',\n",
       " '__lt__',\n",
       " '__module__',\n",
       " '__ne__',\n",
       " '__new__',\n",
       " '__reduce__',\n",
       " '__reduce_ex__',\n",
       " '__repr__',\n",
       " '__setattr__',\n",
       " '__sizeof__',\n",
       " '__str__',\n",
       " '__subclasshook__',\n",
       " '__weakref__',\n",
       " 'age',\n",
       " 'name']"
      ]
     },
     "execution_count": 4,
     "metadata": {},
     "output_type": "execute_result"
    }
   ],
   "source": [
    "dir(person)"
   ]
  },
  {
   "cell_type": "code",
   "execution_count": null,
   "id": "4d772f17",
   "metadata": {},
   "outputs": [
    {
     "ename": "AttributeError",
     "evalue": "'person' object has no attribute '__age'",
     "output_type": "error",
     "traceback": [
      "\u001b[1;31m---------------------------------------------------------------------------\u001b[0m",
      "\u001b[1;31mAttributeError\u001b[0m                            Traceback (most recent call last)",
      "Cell \u001b[1;32mIn[11], line 13\u001b[0m\n\u001b[0;32m     10\u001b[0m     \u001b[38;5;28;01mreturn\u001b[39;00m person\u001b[38;5;241m.\u001b[39m__age\n\u001b[0;32m     12\u001b[0m person\u001b[38;5;241m=\u001b[39m person(\u001b[38;5;124m\"\u001b[39m\u001b[38;5;124mAditya\u001b[39m\u001b[38;5;124m\"\u001b[39m, \u001b[38;5;241m19\u001b[39m,\u001b[38;5;124m\"\u001b[39m\u001b[38;5;124mMale\u001b[39m\u001b[38;5;124m\"\u001b[39m)\n\u001b[1;32m---> 13\u001b[0m \u001b[43mget_info\u001b[49m\u001b[43m(\u001b[49m\u001b[43mperson\u001b[49m\u001b[43m)\u001b[49m\n",
      "Cell \u001b[1;32mIn[11], line 10\u001b[0m, in \u001b[0;36mget_info\u001b[1;34m(person)\u001b[0m\n\u001b[0;32m      9\u001b[0m \u001b[38;5;28;01mdef\u001b[39;00m \u001b[38;5;21mget_info\u001b[39m(person):\n\u001b[1;32m---> 10\u001b[0m     \u001b[38;5;28;01mreturn\u001b[39;00m \u001b[43mperson\u001b[49m\u001b[38;5;241;43m.\u001b[39;49m\u001b[43m__age\u001b[49m\n",
      "\u001b[1;31mAttributeError\u001b[0m: 'person' object has no attribute '__age'"
     ]
    }
   ],
   "source": [
    "## with Private variables __name, __age which are not accessible by outside of the class.\n",
    "class person :\n",
    "\n",
    "    def __init__(self,name,age,gender):\n",
    "        self.__name = name    ## Private variable\n",
    "        self.__age = age      ## Private variable \n",
    "        self.gender = gender  ## Public variable\n",
    "\n",
    "def get_info(person):\n",
    "    return person.__age  ### no permission to access because the private variable..\n",
    "\n",
    "person= person(\"Aditya\", 19,\"Male\")\n",
    "get_info(person)\n"
   ]
  },
  {
   "cell_type": "code",
   "execution_count": 15,
   "id": "3d66aa44",
   "metadata": {},
   "outputs": [
    {
     "name": "stdout",
     "output_type": "stream",
     "text": [
      "Ranjeet\n"
     ]
    }
   ],
   "source": [
    "class person :\n",
    "\n",
    "    def __init__(self,name,age,gender):\n",
    "        self._name = name    ## Protected variable\n",
    "        self._age = age      ## Protected variable \n",
    "        self.gender = gender  ## Public variable\n",
    "\n",
    "class Employee(person):\n",
    "    def __init__(self,name,age,gender):\n",
    "        super().__init__(name,age,gender)\n",
    "\n",
    "employee = Employee(\"Ranjeet\",27,\"Male\")\n",
    "\n",
    "print(employee._name)\n",
    "        \n",
    "\n",
    "\n",
    "\n"
   ]
  },
  {
   "cell_type": "code",
   "execution_count": 28,
   "id": "575c77da",
   "metadata": {},
   "outputs": [
    {
     "name": "stdout",
     "output_type": "stream",
     "text": [
      "Name must be in alphabat.\n",
      "Ranjeet\n",
      "Eligible for vote.\n"
     ]
    }
   ],
   "source": [
    "### Encapsulation by using getter and setter method\n",
    "\n",
    "class Person:\n",
    "    def __init__(self,name,age,gender):\n",
    "        self.__name = name\n",
    "        self.__age = age\n",
    "        self.gender = gender\n",
    "\n",
    "    def set_name(self):\n",
    "        return self.__name\n",
    "    \n",
    "    def get_name(self,name):\n",
    "        if isinstance(name,str):\n",
    "            self.__name = name\n",
    "        else:\n",
    "            return \"Name must be in alphabat.\"\n",
    "        \n",
    "    def get_age(self,age):\n",
    "        if age >18:\n",
    "            self.__age = age\n",
    "            return \"Eligible for vote.\"\n",
    "        else:\n",
    "            return \"Not Eligible for vote \"\n",
    "    \n",
    "\n",
    "\n",
    "person = Person(\"Ranjeet\",23,\"Male\")\n",
    "print(person.get_name(122))\n",
    "print(person.set_name())\n",
    "print(person.get_age(19))\n"
   ]
  },
  {
   "cell_type": "code",
   "execution_count": null,
   "id": "db8e9faa",
   "metadata": {},
   "outputs": [],
   "source": []
  },
  {
   "cell_type": "code",
   "execution_count": null,
   "id": "0d8d4b71",
   "metadata": {},
   "outputs": [],
   "source": []
  },
  {
   "cell_type": "code",
   "execution_count": null,
   "id": "fcf7bb99",
   "metadata": {},
   "outputs": [],
   "source": []
  },
  {
   "cell_type": "code",
   "execution_count": null,
   "id": "055591be",
   "metadata": {},
   "outputs": [],
   "source": []
  }
 ],
 "metadata": {
  "kernelspec": {
   "display_name": "Python 3",
   "language": "python",
   "name": "python3"
  },
  "language_info": {
   "codemirror_mode": {
    "name": "ipython",
    "version": 3
   },
   "file_extension": ".py",
   "mimetype": "text/x-python",
   "name": "python",
   "nbconvert_exporter": "python",
   "pygments_lexer": "ipython3",
   "version": "3.12.0"
  }
 },
 "nbformat": 4,
 "nbformat_minor": 5
}
