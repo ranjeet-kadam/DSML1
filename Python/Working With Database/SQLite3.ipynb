{
 "cells": [
  {
   "cell_type": "code",
   "execution_count": 1,
   "id": "c052641a",
   "metadata": {},
   "outputs": [],
   "source": [
    "import sqlite3"
   ]
  },
  {
   "cell_type": "code",
   "execution_count": 3,
   "id": "dea5afad",
   "metadata": {},
   "outputs": [
    {
     "data": {
      "text/plain": [
       "<sqlite3.Connection at 0x1cb3b5b09a0>"
      ]
     },
     "execution_count": 3,
     "metadata": {},
     "output_type": "execute_result"
    }
   ],
   "source": [
    "connection = sqlite3.connect('example.db')\n",
    "connection"
   ]
  },
  {
   "cell_type": "code",
   "execution_count": 4,
   "id": "9091e302",
   "metadata": {},
   "outputs": [],
   "source": [
    "cursor = connection.cursor()"
   ]
  },
  {
   "cell_type": "code",
   "execution_count": 5,
   "id": "d5998d02",
   "metadata": {},
   "outputs": [],
   "source": [
    "### Create a table\n",
    "\n",
    "cursor.execute('''\n",
    "    create table if not exists employees(\n",
    "               id integer primary key,\n",
    "               name text not null,\n",
    "               age integer,\n",
    "               department text\n",
    "               \n",
    "               )\n",
    "\n",
    "''')\n",
    "\n",
    "### Commit the changes\n",
    "\n",
    "connection.commit()"
   ]
  },
  {
   "cell_type": "code",
   "execution_count": 6,
   "id": "1dfd5368",
   "metadata": {},
   "outputs": [],
   "source": [
    "### Insert the records in table\n",
    "\n",
    "cursor.execute('''\n",
    "\n",
    "insert into employees(name,age,department)\n",
    "               values(\"Ranjeet\",27,\"R&D\")\n",
    "''')\n",
    "\n",
    "cursor.execute('''\n",
    "\n",
    "insert into employees(name,age,department)\n",
    "               values(\"Aditya\",27,\"R&D\")\n",
    "''')\n",
    "\n",
    "cursor.execute('''\n",
    "\n",
    "insert into employees(name,age,department)\n",
    "               values(\"Amit\",27,\"R&D\")\n",
    "''')\n",
    "\n",
    "cursor.execute('''\n",
    "\n",
    "insert into employees(name,age,department)\n",
    "               values(\"Arjun\",27,\"R&D\")\n",
    "''')\n",
    "\n",
    "connection.commit()"
   ]
  },
  {
   "cell_type": "code",
   "execution_count": 7,
   "id": "94a0dc47",
   "metadata": {},
   "outputs": [
    {
     "name": "stdout",
     "output_type": "stream",
     "text": [
      "(1, 'Ranjeet', 27, 'R&D')\n",
      "(2, 'Aditya', 27, 'R&D')\n",
      "(3, 'Amit', 27, 'R&D')\n",
      "(4, 'Arjun', 27, 'R&D')\n"
     ]
    }
   ],
   "source": [
    "### Retrive data from the table\n",
    "\n",
    "cursor.execute('''select * from employees''')\n",
    "\n",
    "rows = cursor.fetchall()\n",
    "\n",
    "for row in rows:\n",
    "    print(row)"
   ]
  },
  {
   "cell_type": "code",
   "execution_count": 10,
   "id": "a5d33a1a",
   "metadata": {},
   "outputs": [],
   "source": [
    "### Update existing records from the table\n",
    "\n",
    "cursor.execute('''\n",
    "    update employees\n",
    "    set age =34\n",
    "    where id in(1,2)           \n",
    "\n",
    "''')\n",
    "\n",
    "connection.commit()"
   ]
  },
  {
   "cell_type": "code",
   "execution_count": 11,
   "id": "86934e12",
   "metadata": {},
   "outputs": [
    {
     "name": "stdout",
     "output_type": "stream",
     "text": [
      "(1, 'Ranjeet', 34, 'R&D')\n",
      "(2, 'Aditya', 34, 'R&D')\n",
      "(3, 'Amit', 27, 'R&D')\n",
      "(4, 'Arjun', 27, 'R&D')\n"
     ]
    }
   ],
   "source": [
    "### Retrive data from the table\n",
    "\n",
    "cursor.execute('''select * from employees''')\n",
    "\n",
    "rows = cursor.fetchall()\n",
    "\n",
    "for row in rows:\n",
    "    print(row)"
   ]
  },
  {
   "cell_type": "code",
   "execution_count": 12,
   "id": "dd205d92",
   "metadata": {},
   "outputs": [],
   "source": [
    "### Delete operation\n",
    "\n",
    "cursor.execute('''\n",
    "               delete from employees\n",
    "               where id =1'''\n",
    "               )\n",
    "\n",
    "connection.commit()"
   ]
  },
  {
   "cell_type": "code",
   "execution_count": 13,
   "id": "b622c41d",
   "metadata": {},
   "outputs": [
    {
     "name": "stdout",
     "output_type": "stream",
     "text": [
      "(2, 'Aditya', 34, 'R&D')\n",
      "(3, 'Amit', 27, 'R&D')\n",
      "(4, 'Arjun', 27, 'R&D')\n"
     ]
    }
   ],
   "source": [
    "cursor.execute('''select * from employees''')\n",
    "\n",
    "rows = cursor.fetchall()\n",
    "\n",
    "for row in rows:\n",
    "    print(row)"
   ]
  },
  {
   "cell_type": "code",
   "execution_count": 30,
   "id": "43133d3f",
   "metadata": {},
   "outputs": [
    {
     "name": "stdout",
     "output_type": "stream",
     "text": [
      "(1, 'Abhi', 30)\n",
      "(2, 'John', 28)\n",
      "(3, 'Sara', 35)\n"
     ]
    }
   ],
   "source": [
    "import sqlite3\n",
    "\n",
    "# --- Insert block ---\n",
    "conn = sqlite3.connect(\"company3.db\")\n",
    "cursor = conn.cursor()\n",
    "\n",
    "cursor.execute('''\n",
    "CREATE TABLE IF NOT EXISTS employees (\n",
    "    id INTEGER PRIMARY KEY,\n",
    "    name TEXT,\n",
    "    age INTEGER\n",
    ")\n",
    "''')\n",
    "\n",
    "employees = [\n",
    "    (1, \"Abhi\", 30),\n",
    "    (2, \"John\", 28),\n",
    "    (3, \"Sara\", 35)\n",
    "]\n",
    "\n",
    "cursor.executemany(\"INSERT INTO employees (id, name, age) VALUES (?, ?, ?)\", employees)\n",
    "conn.commit()\n",
    "conn.close()\n",
    "\n",
    "# --- Retrieve block ---\n",
    "conn = sqlite3.connect(\"company3.db\")\n",
    "cursor = conn.cursor()\n",
    "\n",
    "cursor.execute(\"SELECT * FROM employees\")\n",
    "rows = cursor.fetchall()\n",
    "\n",
    "for row in rows:\n",
    "    print(row)\n",
    "\n",
    "conn.close()\n"
   ]
  },
  {
   "cell_type": "code",
   "execution_count": null,
   "id": "38b2ebf5",
   "metadata": {},
   "outputs": [],
   "source": []
  }
 ],
 "metadata": {
  "kernelspec": {
   "display_name": "Python 3",
   "language": "python",
   "name": "python3"
  },
  "language_info": {
   "codemirror_mode": {
    "name": "ipython",
    "version": 3
   },
   "file_extension": ".py",
   "mimetype": "text/x-python",
   "name": "python",
   "nbconvert_exporter": "python",
   "pygments_lexer": "ipython3",
   "version": "3.12.0"
  }
 },
 "nbformat": 4,
 "nbformat_minor": 5
}
