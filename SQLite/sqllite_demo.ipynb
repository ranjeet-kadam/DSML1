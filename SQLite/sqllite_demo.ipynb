{
 "cells": [
  {
   "cell_type": "code",
   "execution_count": 1,
   "id": "aa6d908d",
   "metadata": {},
   "outputs": [],
   "source": [
    "import sqlite3"
   ]
  },
  {
   "cell_type": "code",
   "execution_count": 3,
   "id": "e4665c35",
   "metadata": {},
   "outputs": [
    {
     "data": {
      "text/plain": [
       "<sqlite3.Connection at 0x175e86c2d40>"
      ]
     },
     "execution_count": 3,
     "metadata": {},
     "output_type": "execute_result"
    }
   ],
   "source": [
    "### create a SQLite command\n",
    "\n",
    "connection = sqlite3.connect('example.db')\n",
    "connection"
   ]
  },
  {
   "cell_type": "code",
   "execution_count": 4,
   "id": "2555d6f8",
   "metadata": {},
   "outputs": [],
   "source": [
    "cursor = connection.cursor()"
   ]
  },
  {
   "cell_type": "code",
   "execution_count": 5,
   "id": "8d29a012",
   "metadata": {},
   "outputs": [],
   "source": [
    "### Create a Table\n",
    "\n",
    "cursor.execute('''\n",
    "    CREATE TABLE IF NOT EXISTS employee(\n",
    "               id Integer Primary Key,\n",
    "               name Text Not Null,\n",
    "               age Integer,\n",
    "               department Text\n",
    "               \n",
    "               )\n",
    "               \n",
    "\n",
    "''')\n",
    "\n",
    "### Commit the code\n",
    "\n",
    "connection.commit()"
   ]
  },
  {
   "cell_type": "code",
   "execution_count": 6,
   "id": "45643abe",
   "metadata": {},
   "outputs": [
    {
     "data": {
      "text/plain": [
       "<sqlite3.Cursor at 0x175e88f0140>"
      ]
     },
     "execution_count": 6,
     "metadata": {},
     "output_type": "execute_result"
    }
   ],
   "source": [
    "cursor.execute('''\n",
    "select * from employee\n",
    "''')"
   ]
  },
  {
   "cell_type": "code",
   "execution_count": 7,
   "id": "758840bc",
   "metadata": {},
   "outputs": [],
   "source": [
    "### Insert data into table\n",
    "\n",
    "cursor.execute('''\n",
    "\n",
    "insert into employee(name,age,department)\n",
    "               values('Andy',27,'Engineering')               \n",
    "\n",
    "\n",
    "''')\n",
    "\n",
    "\n",
    "cursor.execute('''\n",
    "\n",
    "insert into employee(name,age,department)\n",
    "               values('Ranjeet',27,'R&D')               \n",
    "\n",
    "\n",
    "''')\n",
    "\n",
    "\n",
    "cursor.execute('''\n",
    "\n",
    "insert into employee(name,age,department)\n",
    "               values('Amit',27,'Production')               \n",
    "\n",
    "\n",
    "''')\n",
    "\n",
    "\n",
    "\n",
    "connection.commit()"
   ]
  },
  {
   "cell_type": "code",
   "execution_count": 9,
   "id": "c56ed994",
   "metadata": {},
   "outputs": [
    {
     "name": "stdout",
     "output_type": "stream",
     "text": [
      "(1, 'Andy', 27, 'Engineering')\n",
      "(2, 'Ranjeet', 27, 'R&D')\n",
      "(3, 'Amit', 27, 'Production')\n"
     ]
    }
   ],
   "source": [
    "cursor.execute('''select * from employee''')\n",
    "\n",
    "rows = cursor.fetchall()\n",
    "\n",
    "for row in rows:\n",
    "    print(row)"
   ]
  },
  {
   "cell_type": "code",
   "execution_count": 10,
   "id": "7a136acf",
   "metadata": {},
   "outputs": [],
   "source": [
    "### Update data into table\n",
    "\n",
    "cursor.execute('''\n",
    "    update employee\n",
    "    set age = 34\n",
    "    where id =1\n",
    "\n",
    "''')\n",
    "\n",
    "connection.commit()"
   ]
  },
  {
   "cell_type": "code",
   "execution_count": 12,
   "id": "7182982e",
   "metadata": {},
   "outputs": [
    {
     "name": "stdout",
     "output_type": "stream",
     "text": [
      "(1, 'Andy', 34, 'Engineering')\n",
      "(2, 'Ranjeet', 27, 'R&D')\n",
      "(3, 'Amit', 27, 'Production')\n"
     ]
    }
   ],
   "source": [
    "cursor.execute('''select * from employee''')\n",
    "\n",
    "rows = cursor.fetchall()\n",
    "\n",
    "for row in rows:\n",
    "    print(row)"
   ]
  },
  {
   "cell_type": "code",
   "execution_count": 13,
   "id": "91b49a32",
   "metadata": {},
   "outputs": [],
   "source": [
    "### Delete data from table\n",
    "\n",
    "cursor.execute('''\n",
    "delete from employee\n",
    "where name =\"Andy\"\n",
    "''')\n",
    "\n",
    "connection.commit()"
   ]
  },
  {
   "cell_type": "code",
   "execution_count": 14,
   "id": "6f48a3a8",
   "metadata": {},
   "outputs": [
    {
     "name": "stdout",
     "output_type": "stream",
     "text": [
      "(2, 'Ranjeet', 27, 'R&D')\n",
      "(3, 'Amit', 27, 'Production')\n"
     ]
    }
   ],
   "source": [
    "cursor.execute('''select * from employee''')\n",
    "\n",
    "rows = cursor.fetchall()\n",
    "\n",
    "for row in rows:\n",
    "    print(row)"
   ]
  },
  {
   "cell_type": "code",
   "execution_count": null,
   "id": "e4fee24b",
   "metadata": {},
   "outputs": [],
   "source": []
  }
 ],
 "metadata": {
  "kernelspec": {
   "display_name": "Python 3",
   "language": "python",
   "name": "python3"
  },
  "language_info": {
   "codemirror_mode": {
    "name": "ipython",
    "version": 3
   },
   "file_extension": ".py",
   "mimetype": "text/x-python",
   "name": "python",
   "nbconvert_exporter": "python",
   "pygments_lexer": "ipython3",
   "version": "3.13.3"
  }
 },
 "nbformat": 4,
 "nbformat_minor": 5
}
